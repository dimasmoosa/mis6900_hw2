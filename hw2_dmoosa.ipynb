{
 "cells": [
  {
   "cell_type": "markdown",
   "metadata": {
    "Collapsed": "false"
   },
   "source": [
    "# MIS 6900 - HW2 - Excel type things with Python"
   ]
  },
  {
   "cell_type": "markdown",
   "metadata": {
    "Collapsed": "false"
   },
   "source": [
    "## Preliminaries"
   ]
  },
  {
   "cell_type": "code",
   "execution_count": 151,
   "metadata": {
    "Collapsed": "false"
   },
   "outputs": [
    {
     "name": "stdout",
     "output_type": "stream",
     "text": [
      "The autoreload extension is already loaded. To reload it, use:\n",
      "  %reload_ext autoreload\n"
     ]
    }
   ],
   "source": [
    "# To auto-reload modules in jupyter notebook (so that changes in files *.py doesn't require manual reloading):\n",
    "# https://stackoverflow.com/questions/5364050/reloading-submodules-in-ipython\n",
    "%load_ext autoreload\n",
    "%autoreload 2"
   ]
  },
  {
   "cell_type": "markdown",
   "metadata": {
    "Collapsed": "false"
   },
   "source": [
    "Import commonly used libraries and magic command for inline plotting"
   ]
  },
  {
   "cell_type": "code",
   "execution_count": 152,
   "metadata": {
    "Collapsed": "false"
   },
   "outputs": [],
   "source": [
    "import numpy as np\n",
    "import pandas as pd\n",
    "import matplotlib.pyplot as plt\n",
    "import seaborn as sns\n"
   ]
  },
  {
   "cell_type": "code",
   "execution_count": 153,
   "metadata": {},
   "outputs": [],
   "source": [
    "%matplotlib inline"
   ]
  },
  {
   "cell_type": "markdown",
   "metadata": {},
   "source": [
    "Import the `whatif` module"
   ]
  },
  {
   "cell_type": "code",
   "execution_count": 154,
   "metadata": {},
   "outputs": [],
   "source": [
    "from whatif import Model\n",
    "from whatif import get_sim_results_df"
   ]
  },
  {
   "cell_type": "markdown",
   "metadata": {
    "Collapsed": "false"
   },
   "source": [
    "## Analysis 1 - Basic Break-even Analysis"
   ]
  },
  {
   "cell_type": "markdown",
   "metadata": {},
   "source": [
    "Problem description:\n",
    "\n",
    "The owner of a relatively small business is trying to determine the breakeven level of sales of the company's single product. The fixed cost of manufacturing product each month is **\\\\$5,000**. The variable cost of producing this product is **\\\\$100** per unit. The current selling price is **\\\\$115**. Using historical data on selling price and monthly demand, the owner fit the folllowing function relating to demand and selling price:\n",
    "\n",
    "$D = 0.06S^2 - 35S + 4900$\n",
    "\n",
    "where *D* is the monthly demand for the product and *S* is the selling price. This is a 2nd order polynomial function. Let's call this equation the `Selling Price Function` (or `SPF`, for short)."
   ]
  },
  {
   "cell_type": "markdown",
   "metadata": {
    "Collapsed": "false"
   },
   "source": [
    "### Base Model"
   ]
  },
  {
   "cell_type": "code",
   "execution_count": 155,
   "metadata": {},
   "outputs": [],
   "source": [
    "class SingleProductSPF(Model):\n",
    "    \"\"\"Base model\"\"\"\n",
    "    def __init__(self, fixed_cost = 5000, var_cost = 100, selling_price = 115, \n",
    "                 spf_constant = 4900, spf_linear = 35, spf_quadratic = 0.06):\n",
    "        self.fixed_cost = fixed_cost\n",
    "        self.var_cost = var_cost\n",
    "        self.selling_price = selling_price\n",
    "        self.spf_constant = spf_constant\n",
    "        self.spf_linear = spf_linear\n",
    "        self.spf_quadratic = spf_quadratic\n",
    "    \n",
    "    def demand(self):\n",
    "        demand = (self.spf_quadratic * (self.selling_price ** 2)) - (self.spf_linear * self.selling_price) + (self.spf_constant)\n",
    "        return demand\n",
    "    \n",
    "    def total_cost(self):\n",
    "        total_cost = (self.demand() * self.var_cost) + self.fixed_cost\n",
    "        return total_cost\n",
    "    \n",
    "    def total_revenue(self):\n",
    "        total_revenue = self.demand() * self.selling_price\n",
    "        return total_revenue\n",
    "    \n",
    "    def profit(self):\n",
    "        profit = self.total_revenue() - self.total_cost()\n",
    "        return profit\n",
    "    "
   ]
  },
  {
   "cell_type": "markdown",
   "metadata": {},
   "source": [
    "Instantiating an instance of our SPF model and confirming that we're getting the correct demand and profit value with default parameters"
   ]
  },
  {
   "cell_type": "code",
   "execution_count": 156,
   "metadata": {},
   "outputs": [
    {
     "name": "stdout",
     "output_type": "stream",
     "text": [
      "Single product SPF model demand with selling price set at $115.00 is: $1,668.50\n",
      "Single product SPF model profit with selling price set at $115.00 is: $20,027.50\n",
      "Single product SPF model attributes: {'fixed_cost': 5000, 'var_cost': 100, 'selling_price': 115, 'spf_constant': 4900, 'spf_linear': 35, 'spf_quadratic': 0.06}\n"
     ]
    }
   ],
   "source": [
    "model = SingleProductSPF()\n",
    "print(f\"Single product SPF model demand with selling price set at ${model.selling_price:,.2f} is: ${model.demand():,.2f}\")\n",
    "print(f\"Single product SPF model profit with selling price set at ${model.selling_price:,.2f} is: ${model.profit():,.2f}\")\n",
    "print(f\"Single product SPF model attributes: {model}\")"
   ]
  },
  {
   "cell_type": "markdown",
   "metadata": {},
   "source": [
    "### 1-Way Data Table"
   ]
  },
  {
   "cell_type": "markdown",
   "metadata": {},
   "source": [
    "#### The data table"
   ]
  },
  {
   "cell_type": "markdown",
   "metadata": {},
   "source": [
    "Creating a one-way data table using the inherited `data_table` function from Model (from the `whatif` package). We are using `selling_price` values from 80 to 140 (by steps of 10) as the input and outputting the `profit` and `demand`."
   ]
  },
  {
   "cell_type": "code",
   "execution_count": 157,
   "metadata": {},
   "outputs": [
    {
     "data": {
      "text/html": [
       "<div>\n",
       "<style scoped>\n",
       "    .dataframe tbody tr th:only-of-type {\n",
       "        vertical-align: middle;\n",
       "    }\n",
       "\n",
       "    .dataframe tbody tr th {\n",
       "        vertical-align: top;\n",
       "    }\n",
       "\n",
       "    .dataframe thead th {\n",
       "        text-align: right;\n",
       "    }\n",
       "</style>\n",
       "<table border=\"1\" class=\"dataframe\">\n",
       "  <thead>\n",
       "    <tr style=\"text-align: right;\">\n",
       "      <th></th>\n",
       "      <th>selling_price</th>\n",
       "      <th>profit</th>\n",
       "      <th>demand</th>\n",
       "    </tr>\n",
       "  </thead>\n",
       "  <tbody>\n",
       "    <tr>\n",
       "      <th>0</th>\n",
       "      <td>80</td>\n",
       "      <td>-54680.0</td>\n",
       "      <td>2484.0</td>\n",
       "    </tr>\n",
       "    <tr>\n",
       "      <th>1</th>\n",
       "      <td>90</td>\n",
       "      <td>-27360.0</td>\n",
       "      <td>2236.0</td>\n",
       "    </tr>\n",
       "    <tr>\n",
       "      <th>2</th>\n",
       "      <td>100</td>\n",
       "      <td>-5000.0</td>\n",
       "      <td>2000.0</td>\n",
       "    </tr>\n",
       "    <tr>\n",
       "      <th>3</th>\n",
       "      <td>110</td>\n",
       "      <td>12760.0</td>\n",
       "      <td>1776.0</td>\n",
       "    </tr>\n",
       "    <tr>\n",
       "      <th>4</th>\n",
       "      <td>120</td>\n",
       "      <td>26280.0</td>\n",
       "      <td>1564.0</td>\n",
       "    </tr>\n",
       "    <tr>\n",
       "      <th>5</th>\n",
       "      <td>130</td>\n",
       "      <td>35920.0</td>\n",
       "      <td>1364.0</td>\n",
       "    </tr>\n",
       "    <tr>\n",
       "      <th>6</th>\n",
       "      <td>140</td>\n",
       "      <td>42040.0</td>\n",
       "      <td>1176.0</td>\n",
       "    </tr>\n",
       "  </tbody>\n",
       "</table>\n",
       "</div>"
      ],
      "text/plain": [
       "   selling_price   profit  demand\n",
       "0             80 -54680.0  2484.0\n",
       "1             90 -27360.0  2236.0\n",
       "2            100  -5000.0  2000.0\n",
       "3            110  12760.0  1776.0\n",
       "4            120  26280.0  1564.0\n",
       "5            130  35920.0  1364.0\n",
       "6            140  42040.0  1176.0"
      ]
     },
     "execution_count": 157,
     "metadata": {},
     "output_type": "execute_result"
    }
   ],
   "source": [
    "one_way_inputs = {'selling_price': np.arange(80, 141, 10)}\n",
    "one_way_output = ['profit', 'demand']\n",
    "\n",
    "one_way_df = model.data_table(one_way_inputs, one_way_output)\n",
    "one_way_df"
   ]
  },
  {
   "cell_type": "markdown",
   "metadata": {},
   "source": [
    "#### Visualizing the data table"
   ]
  },
  {
   "cell_type": "markdown",
   "metadata": {},
   "source": [
    "Graphing our 1-way data table dataframe."
   ]
  },
  {
   "cell_type": "code",
   "execution_count": 158,
   "metadata": {},
   "outputs": [
    {
     "data": {
      "image/png": "[encoded data removed]",
      "text/plain": [
       "<Figure size 432x288 with 1 Axes>"
      ]
     },
     "metadata": {
      "needs_background": "light"
     },
     "output_type": "display_data"
    }
   ],
   "source": [
    "one_way_x = one_way_df['selling_price']\n",
    "one_way_y = one_way_df['profit']\n",
    "\n",
    "plt.xlabel('Selling Price')\n",
    "plt.ylabel('Profit')\n",
    "\n",
    "plt.hlines(y=0, xmin=min(one_way_df['selling_price']), xmax=max(one_way_df['selling_price']), linestyles='dotted')\n",
    "\n",
    "plt.title('Profit vs Selling Price')\n",
    "\n",
    "plt.plot(one_way_x, one_way_y)\n",
    "\n",
    "plt.show()"
   ]
  },
  {
   "cell_type": "markdown",
   "metadata": {},
   "source": [
    "#### Discussion & summary of the data table"
   ]
  },
  {
   "cell_type": "markdown",
   "metadata": {},
   "source": [
    "The shape of the relationship between the selling price and profit looks like some degree polynomial. Profit does not increase linearly with selling price. We can see that as selling price increases, profit increases but at a decreasing rate. \n",
    "\n",
    "The result is that the \"line\" is curved, arching as selling price increases. It almost looks like 40%-45% of the left side of a rainbow.\n",
    "\n",
    "In short, the relationship is nonlinear and this makes sense since our SPF (selling price function) is quadratic. Our SPF calculates the demand and demand is in turn used to calculate the profit. Not only is SPF quadratic, but it has a positive squared variable (0.06 * S ^ 2) and a negative linear variable (- 35 * S)."
   ]
  },
  {
   "cell_type": "markdown",
   "metadata": {},
   "source": [
    "### Break-Even"
   ]
  },
  {
   "cell_type": "markdown",
   "metadata": {},
   "source": [
    "Break-even selling price between \\\\$80 and \\\\$140."
   ]
  },
  {
   "cell_type": "code",
   "execution_count": 159,
   "metadata": {},
   "outputs": [
    {
     "name": "stdout",
     "output_type": "stream",
     "text": [
      "Selling price (between $80 and $140) that gets us at the break-even point ($0) for profit: $102.58\n"
     ]
    }
   ],
   "source": [
    "print(f\"Selling price (between $80 and $140) that gets us at the break-even point ($0) for profit: ${model.goal_seek('profit', 0, 'selling_price', 80, 140, 100):,.2f}\")"
   ]
  },
  {
   "cell_type": "markdown",
   "metadata": {},
   "source": [
    "### 2-Way Data Table"
   ]
  },
  {
   "cell_type": "markdown",
   "metadata": {},
   "source": [
    "#### The data table"
   ]
  },
  {
   "cell_type": "markdown",
   "metadata": {},
   "source": [
    "Let's create a 2-way data table using `selling_price` (\\\\$80 to \\\\$140, steps of \\\\$10), `var_cost` (\\\\$85 to \\\\$110, steps of \\\\$5) as the inputs and `profit` and `total_cost` as the outputs."
   ]
  },
  {
   "cell_type": "code",
   "execution_count": 160,
   "metadata": {},
   "outputs": [
    {
     "data": {
      "text/html": [
       "<div>\n",
       "<style scoped>\n",
       "    .dataframe tbody tr th:only-of-type {\n",
       "        vertical-align: middle;\n",
       "    }\n",
       "\n",
       "    .dataframe tbody tr th {\n",
       "        vertical-align: top;\n",
       "    }\n",
       "\n",
       "    .dataframe thead th {\n",
       "        text-align: right;\n",
       "    }\n",
       "</style>\n",
       "<table border=\"1\" class=\"dataframe\">\n",
       "  <thead>\n",
       "    <tr style=\"text-align: right;\">\n",
       "      <th></th>\n",
       "      <th>selling_price</th>\n",
       "      <th>var_cost</th>\n",
       "      <th>profit</th>\n",
       "      <th>total_cost</th>\n",
       "    </tr>\n",
       "  </thead>\n",
       "  <tbody>\n",
       "    <tr>\n",
       "      <th>0</th>\n",
       "      <td>80</td>\n",
       "      <td>85</td>\n",
       "      <td>-17420.0</td>\n",
       "      <td>216140.0</td>\n",
       "    </tr>\n",
       "    <tr>\n",
       "      <th>1</th>\n",
       "      <td>80</td>\n",
       "      <td>90</td>\n",
       "      <td>-29840.0</td>\n",
       "      <td>228560.0</td>\n",
       "    </tr>\n",
       "    <tr>\n",
       "      <th>2</th>\n",
       "      <td>80</td>\n",
       "      <td>95</td>\n",
       "      <td>-42260.0</td>\n",
       "      <td>240980.0</td>\n",
       "    </tr>\n",
       "    <tr>\n",
       "      <th>3</th>\n",
       "      <td>80</td>\n",
       "      <td>100</td>\n",
       "      <td>-54680.0</td>\n",
       "      <td>253400.0</td>\n",
       "    </tr>\n",
       "    <tr>\n",
       "      <th>4</th>\n",
       "      <td>80</td>\n",
       "      <td>105</td>\n",
       "      <td>-67100.0</td>\n",
       "      <td>265820.0</td>\n",
       "    </tr>\n",
       "    <tr>\n",
       "      <th>5</th>\n",
       "      <td>80</td>\n",
       "      <td>110</td>\n",
       "      <td>-79520.0</td>\n",
       "      <td>278240.0</td>\n",
       "    </tr>\n",
       "    <tr>\n",
       "      <th>6</th>\n",
       "      <td>90</td>\n",
       "      <td>85</td>\n",
       "      <td>6180.0</td>\n",
       "      <td>195060.0</td>\n",
       "    </tr>\n",
       "    <tr>\n",
       "      <th>7</th>\n",
       "      <td>90</td>\n",
       "      <td>90</td>\n",
       "      <td>-5000.0</td>\n",
       "      <td>206240.0</td>\n",
       "    </tr>\n",
       "    <tr>\n",
       "      <th>8</th>\n",
       "      <td>90</td>\n",
       "      <td>95</td>\n",
       "      <td>-16180.0</td>\n",
       "      <td>217420.0</td>\n",
       "    </tr>\n",
       "    <tr>\n",
       "      <th>9</th>\n",
       "      <td>90</td>\n",
       "      <td>100</td>\n",
       "      <td>-27360.0</td>\n",
       "      <td>228600.0</td>\n",
       "    </tr>\n",
       "    <tr>\n",
       "      <th>10</th>\n",
       "      <td>90</td>\n",
       "      <td>105</td>\n",
       "      <td>-38540.0</td>\n",
       "      <td>239780.0</td>\n",
       "    </tr>\n",
       "    <tr>\n",
       "      <th>11</th>\n",
       "      <td>90</td>\n",
       "      <td>110</td>\n",
       "      <td>-49720.0</td>\n",
       "      <td>250960.0</td>\n",
       "    </tr>\n",
       "    <tr>\n",
       "      <th>12</th>\n",
       "      <td>100</td>\n",
       "      <td>85</td>\n",
       "      <td>25000.0</td>\n",
       "      <td>175000.0</td>\n",
       "    </tr>\n",
       "    <tr>\n",
       "      <th>13</th>\n",
       "      <td>100</td>\n",
       "      <td>90</td>\n",
       "      <td>15000.0</td>\n",
       "      <td>185000.0</td>\n",
       "    </tr>\n",
       "    <tr>\n",
       "      <th>14</th>\n",
       "      <td>100</td>\n",
       "      <td>95</td>\n",
       "      <td>5000.0</td>\n",
       "      <td>195000.0</td>\n",
       "    </tr>\n",
       "    <tr>\n",
       "      <th>15</th>\n",
       "      <td>100</td>\n",
       "      <td>100</td>\n",
       "      <td>-5000.0</td>\n",
       "      <td>205000.0</td>\n",
       "    </tr>\n",
       "    <tr>\n",
       "      <th>16</th>\n",
       "      <td>100</td>\n",
       "      <td>105</td>\n",
       "      <td>-15000.0</td>\n",
       "      <td>215000.0</td>\n",
       "    </tr>\n",
       "    <tr>\n",
       "      <th>17</th>\n",
       "      <td>100</td>\n",
       "      <td>110</td>\n",
       "      <td>-25000.0</td>\n",
       "      <td>225000.0</td>\n",
       "    </tr>\n",
       "    <tr>\n",
       "      <th>18</th>\n",
       "      <td>110</td>\n",
       "      <td>85</td>\n",
       "      <td>39400.0</td>\n",
       "      <td>155960.0</td>\n",
       "    </tr>\n",
       "    <tr>\n",
       "      <th>19</th>\n",
       "      <td>110</td>\n",
       "      <td>90</td>\n",
       "      <td>30520.0</td>\n",
       "      <td>164840.0</td>\n",
       "    </tr>\n",
       "    <tr>\n",
       "      <th>20</th>\n",
       "      <td>110</td>\n",
       "      <td>95</td>\n",
       "      <td>21640.0</td>\n",
       "      <td>173720.0</td>\n",
       "    </tr>\n",
       "    <tr>\n",
       "      <th>21</th>\n",
       "      <td>110</td>\n",
       "      <td>100</td>\n",
       "      <td>12760.0</td>\n",
       "      <td>182600.0</td>\n",
       "    </tr>\n",
       "    <tr>\n",
       "      <th>22</th>\n",
       "      <td>110</td>\n",
       "      <td>105</td>\n",
       "      <td>3880.0</td>\n",
       "      <td>191480.0</td>\n",
       "    </tr>\n",
       "    <tr>\n",
       "      <th>23</th>\n",
       "      <td>110</td>\n",
       "      <td>110</td>\n",
       "      <td>-5000.0</td>\n",
       "      <td>200360.0</td>\n",
       "    </tr>\n",
       "    <tr>\n",
       "      <th>24</th>\n",
       "      <td>120</td>\n",
       "      <td>85</td>\n",
       "      <td>49740.0</td>\n",
       "      <td>137940.0</td>\n",
       "    </tr>\n",
       "    <tr>\n",
       "      <th>25</th>\n",
       "      <td>120</td>\n",
       "      <td>90</td>\n",
       "      <td>41920.0</td>\n",
       "      <td>145760.0</td>\n",
       "    </tr>\n",
       "    <tr>\n",
       "      <th>26</th>\n",
       "      <td>120</td>\n",
       "      <td>95</td>\n",
       "      <td>34100.0</td>\n",
       "      <td>153580.0</td>\n",
       "    </tr>\n",
       "    <tr>\n",
       "      <th>27</th>\n",
       "      <td>120</td>\n",
       "      <td>100</td>\n",
       "      <td>26280.0</td>\n",
       "      <td>161400.0</td>\n",
       "    </tr>\n",
       "    <tr>\n",
       "      <th>28</th>\n",
       "      <td>120</td>\n",
       "      <td>105</td>\n",
       "      <td>18460.0</td>\n",
       "      <td>169220.0</td>\n",
       "    </tr>\n",
       "    <tr>\n",
       "      <th>29</th>\n",
       "      <td>120</td>\n",
       "      <td>110</td>\n",
       "      <td>10640.0</td>\n",
       "      <td>177040.0</td>\n",
       "    </tr>\n",
       "    <tr>\n",
       "      <th>30</th>\n",
       "      <td>130</td>\n",
       "      <td>85</td>\n",
       "      <td>56380.0</td>\n",
       "      <td>120940.0</td>\n",
       "    </tr>\n",
       "    <tr>\n",
       "      <th>31</th>\n",
       "      <td>130</td>\n",
       "      <td>90</td>\n",
       "      <td>49560.0</td>\n",
       "      <td>127760.0</td>\n",
       "    </tr>\n",
       "    <tr>\n",
       "      <th>32</th>\n",
       "      <td>130</td>\n",
       "      <td>95</td>\n",
       "      <td>42740.0</td>\n",
       "      <td>134580.0</td>\n",
       "    </tr>\n",
       "    <tr>\n",
       "      <th>33</th>\n",
       "      <td>130</td>\n",
       "      <td>100</td>\n",
       "      <td>35920.0</td>\n",
       "      <td>141400.0</td>\n",
       "    </tr>\n",
       "    <tr>\n",
       "      <th>34</th>\n",
       "      <td>130</td>\n",
       "      <td>105</td>\n",
       "      <td>29100.0</td>\n",
       "      <td>148220.0</td>\n",
       "    </tr>\n",
       "    <tr>\n",
       "      <th>35</th>\n",
       "      <td>130</td>\n",
       "      <td>110</td>\n",
       "      <td>22280.0</td>\n",
       "      <td>155040.0</td>\n",
       "    </tr>\n",
       "    <tr>\n",
       "      <th>36</th>\n",
       "      <td>140</td>\n",
       "      <td>85</td>\n",
       "      <td>59680.0</td>\n",
       "      <td>104960.0</td>\n",
       "    </tr>\n",
       "    <tr>\n",
       "      <th>37</th>\n",
       "      <td>140</td>\n",
       "      <td>90</td>\n",
       "      <td>53800.0</td>\n",
       "      <td>110840.0</td>\n",
       "    </tr>\n",
       "    <tr>\n",
       "      <th>38</th>\n",
       "      <td>140</td>\n",
       "      <td>95</td>\n",
       "      <td>47920.0</td>\n",
       "      <td>116720.0</td>\n",
       "    </tr>\n",
       "    <tr>\n",
       "      <th>39</th>\n",
       "      <td>140</td>\n",
       "      <td>100</td>\n",
       "      <td>42040.0</td>\n",
       "      <td>122600.0</td>\n",
       "    </tr>\n",
       "    <tr>\n",
       "      <th>40</th>\n",
       "      <td>140</td>\n",
       "      <td>105</td>\n",
       "      <td>36160.0</td>\n",
       "      <td>128480.0</td>\n",
       "    </tr>\n",
       "    <tr>\n",
       "      <th>41</th>\n",
       "      <td>140</td>\n",
       "      <td>110</td>\n",
       "      <td>30280.0</td>\n",
       "      <td>134360.0</td>\n",
       "    </tr>\n",
       "  </tbody>\n",
       "</table>\n",
       "</div>"
      ],
      "text/plain": [
       "    selling_price  var_cost   profit  total_cost\n",
       "0              80        85 -17420.0    216140.0\n",
       "1              80        90 -29840.0    228560.0\n",
       "2              80        95 -42260.0    240980.0\n",
       "3              80       100 -54680.0    253400.0\n",
       "4              80       105 -67100.0    265820.0\n",
       "5              80       110 -79520.0    278240.0\n",
       "6              90        85   6180.0    195060.0\n",
       "7              90        90  -5000.0    206240.0\n",
       "8              90        95 -16180.0    217420.0\n",
       "9              90       100 -27360.0    228600.0\n",
       "10             90       105 -38540.0    239780.0\n",
       "11             90       110 -49720.0    250960.0\n",
       "12            100        85  25000.0    175000.0\n",
       "13            100        90  15000.0    185000.0\n",
       "14            100        95   5000.0    195000.0\n",
       "15            100       100  -5000.0    205000.0\n",
       "16            100       105 -15000.0    215000.0\n",
       "17            100       110 -25000.0    225000.0\n",
       "18            110        85  39400.0    155960.0\n",
       "19            110        90  30520.0    164840.0\n",
       "20            110        95  21640.0    173720.0\n",
       "21            110       100  12760.0    182600.0\n",
       "22            110       105   3880.0    191480.0\n",
       "23            110       110  -5000.0    200360.0\n",
       "24            120        85  49740.0    137940.0\n",
       "25            120        90  41920.0    145760.0\n",
       "26            120        95  34100.0    153580.0\n",
       "27            120       100  26280.0    161400.0\n",
       "28            120       105  18460.0    169220.0\n",
       "29            120       110  10640.0    177040.0\n",
       "30            130        85  56380.0    120940.0\n",
       "31            130        90  49560.0    127760.0\n",
       "32            130        95  42740.0    134580.0\n",
       "33            130       100  35920.0    141400.0\n",
       "34            130       105  29100.0    148220.0\n",
       "35            130       110  22280.0    155040.0\n",
       "36            140        85  59680.0    104960.0\n",
       "37            140        90  53800.0    110840.0\n",
       "38            140        95  47920.0    116720.0\n",
       "39            140       100  42040.0    122600.0\n",
       "40            140       105  36160.0    128480.0\n",
       "41            140       110  30280.0    134360.0"
      ]
     },
     "execution_count": 160,
     "metadata": {},
     "output_type": "execute_result"
    }
   ],
   "source": [
    "two_way_inputs = {'selling_price': np.arange(80, 141, 10),\n",
    "                 'var_cost': np.arange(85, 111, 5)}\n",
    "two_way_outputs = ['profit', 'total_cost']\n",
    "\n",
    "two_way_df = model.data_table(two_way_inputs, two_way_outputs)\n",
    "two_way_df"
   ]
  },
  {
   "cell_type": "markdown",
   "metadata": {},
   "source": [
    "#### Visualizing the data table"
   ]
  },
  {
   "cell_type": "markdown",
   "metadata": {},
   "source": [
    "Let's visualize how the selling price and variable cost affect the profit."
   ]
  },
  {
   "cell_type": "code",
   "execution_count": 161,
   "metadata": {},
   "outputs": [
    {
     "data": {
      "image/png": "[encoded data removed]",
      "text/plain": [
       "<Figure size 864x432 with 7 Axes>"
      ]
     },
     "metadata": {
      "needs_background": "light"
     },
     "output_type": "display_data"
    }
   ],
   "source": [
    "two_way_graph = sns.FacetGrid(two_way_df, col=\"selling_price\", sharey=True, col_wrap=4)\n",
    "two_way_graph = two_way_graph.map(plt.plot, \"var_cost\", \"profit\")\n",
    "two_way_graph = two_way_graph.refline(y=0)"
   ]
  },
  {
   "cell_type": "markdown",
   "metadata": {},
   "source": [
    "From this faceted plot, we can see that increasing the selling price increases the profit and that higher variable cost translates into less profit.\n",
    "\n",
    "It's easy to see the negative linear relationship between variable cost (in this band) and profit since we have a downward sloped line. As for seeing how increasing selling price (at least in this band) increases the profits, we can see how the line (at each point) is higher going from 80 to 140 selling price in steps of 10 (notice the line is above the y=0 reference line)."
   ]
  },
  {
   "cell_type": "markdown",
   "metadata": {},
   "source": [
    "### Digging Deeper"
   ]
  },
  {
   "cell_type": "markdown",
   "metadata": {},
   "source": [
    "#### Redoing the goal seek"
   ]
  },
  {
   "cell_type": "markdown",
   "metadata": {},
   "source": [
    "Redoing the Goal Seek but using \\\\$80-\\\\$250 instead"
   ]
  },
  {
   "cell_type": "code",
   "execution_count": 162,
   "metadata": {},
   "outputs": [
    {
     "name": "stdout",
     "output_type": "stream",
     "text": [
      "None\n",
      "None\n"
     ]
    }
   ],
   "source": [
    "# Got an error from the below code so it's been commented out\n",
    "# print(f\"Selling price (between $80 and $140) that gets us at the break-even point ($0) for profit: ${model.goal_seek('profit', 0, 'selling_price', 80, 250, 2000):,.2f}\")\n",
    "\n",
    "print(model.goal_seek('profit', 0, 'selling_price', 80, 250, 100))\n",
    "print(model.goal_seek('profit', 0, 'selling_price', 80, 250, 10000))\n",
    "\n",
    "# Makes sense why we were getting that error now"
   ]
  },
  {
   "cell_type": "markdown",
   "metadata": {},
   "source": [
    "Looks like our bisection algorithm cannot find a root for the equation using a selling price between 80 and 250. This is the case even when we increase the number of iterations to 10,000. We can refer to https://www.math.ubc.ca/~pwalls/math-python/roots-optimization/bisection/ to get a better understanding (as seen in `whatif.py`)."
   ]
  },
  {
   "cell_type": "markdown",
   "metadata": {},
   "source": [
    "![bisection algorithm error](./images/Bisection_algorithm_error.png)"
   ]
  },
  {
   "cell_type": "markdown",
   "metadata": {},
   "source": [
    "From this explanation, we can deduce that we had \"either ... a bad initial interval or rounding error in computations.\" We can also look at the docstrings for further explanation on our interval/bounds `a` (80) and `b` (250)."
   ]
  },
  {
   "cell_type": "code",
   "execution_count": 163,
   "metadata": {},
   "outputs": [
    {
     "data": {
      "text/plain": [
       "\u001b[1;31mSignature:\u001b[0m \u001b[0mmodel\u001b[0m\u001b[1;33m.\u001b[0m\u001b[0mgoal_seek\u001b[0m\u001b[1;33m(\u001b[0m\u001b[0mobj_fn\u001b[0m\u001b[1;33m,\u001b[0m \u001b[0mtarget\u001b[0m\u001b[1;33m,\u001b[0m \u001b[0mby_changing\u001b[0m\u001b[1;33m,\u001b[0m \u001b[0ma\u001b[0m\u001b[1;33m,\u001b[0m \u001b[0mb\u001b[0m\u001b[1;33m,\u001b[0m \u001b[0mN\u001b[0m\u001b[1;33m=\u001b[0m\u001b[1;36m100\u001b[0m\u001b[1;33m)\u001b[0m\u001b[1;33m\u001b[0m\u001b[1;33m\u001b[0m\u001b[0m\n",
       "\u001b[1;31mDocstring:\u001b[0m\n",
       "Approximate solution of f(x)=0 on interval [a,b] by bisection method.\n",
       "\n",
       "Parameters\n",
       "----------\n",
       "obj_fn : str\n",
       "    The function name for which we are trying to approximate a solution f(x)=target.\n",
       "target : float\n",
       "    The goal\n",
       "by_changing : str\n",
       "    Name of the input variable in model\n",
       "a,b : numbers\n",
       "    The interval in which to search for a solution. The function returns\n",
       "    None if (f(a) - target) * (f(b) - target) >= 0 since a solution is not guaranteed.\n",
       "N : (positive) integer\n",
       "    The number of iterations to implement.\n",
       "\n",
       "Returns\n",
       "-------\n",
       "x_N : number\n",
       "    The midpoint of the Nth interval computed by the bisection method. The\n",
       "    initial interval [a_0,b_0] is given by [a,b]. If f(m_n) - target == 0 for some\n",
       "    midpoint m_n = (a_n + b_n)/2, then the function returns this solution.\n",
       "    If all signs of values f(a_n), f(b_n) and f(m_n) are the same at any\n",
       "    iteration, the bisection method fails and return None.\n",
       "\u001b[1;31mFile:\u001b[0m      d:\\documents\\school stuff\\grad\\courses\\2022_05 summer\\mis 6900 - adv analytics w python\\module 3-excel w python\\mis6900_hw2\\whatif.py\n",
       "\u001b[1;31mType:\u001b[0m      method\n"
      ]
     },
     "metadata": {},
     "output_type": "display_data"
    }
   ],
   "source": [
    "?model.goal_seek"
   ]
  },
  {
   "cell_type": "markdown",
   "metadata": {},
   "source": [
    "#### Redoing the 1-way data table"
   ]
  },
  {
   "cell_type": "markdown",
   "metadata": {},
   "source": [
    "Let's redo the 1-way data table as well to get further insight on why this is happening."
   ]
  },
  {
   "cell_type": "code",
   "execution_count": 164,
   "metadata": {},
   "outputs": [
    {
     "data": {
      "text/html": [
       "<div>\n",
       "<style scoped>\n",
       "    .dataframe tbody tr th:only-of-type {\n",
       "        vertical-align: middle;\n",
       "    }\n",
       "\n",
       "    .dataframe tbody tr th {\n",
       "        vertical-align: top;\n",
       "    }\n",
       "\n",
       "    .dataframe thead th {\n",
       "        text-align: right;\n",
       "    }\n",
       "</style>\n",
       "<table border=\"1\" class=\"dataframe\">\n",
       "  <thead>\n",
       "    <tr style=\"text-align: right;\">\n",
       "      <th></th>\n",
       "      <th>selling_price</th>\n",
       "      <th>profit</th>\n",
       "      <th>demand</th>\n",
       "    </tr>\n",
       "  </thead>\n",
       "  <tbody>\n",
       "    <tr>\n",
       "      <th>0</th>\n",
       "      <td>80</td>\n",
       "      <td>-54680.0</td>\n",
       "      <td>2484.0</td>\n",
       "    </tr>\n",
       "    <tr>\n",
       "      <th>1</th>\n",
       "      <td>90</td>\n",
       "      <td>-27360.0</td>\n",
       "      <td>2236.0</td>\n",
       "    </tr>\n",
       "    <tr>\n",
       "      <th>2</th>\n",
       "      <td>100</td>\n",
       "      <td>-5000.0</td>\n",
       "      <td>2000.0</td>\n",
       "    </tr>\n",
       "    <tr>\n",
       "      <th>3</th>\n",
       "      <td>110</td>\n",
       "      <td>12760.0</td>\n",
       "      <td>1776.0</td>\n",
       "    </tr>\n",
       "    <tr>\n",
       "      <th>4</th>\n",
       "      <td>120</td>\n",
       "      <td>26280.0</td>\n",
       "      <td>1564.0</td>\n",
       "    </tr>\n",
       "    <tr>\n",
       "      <th>5</th>\n",
       "      <td>130</td>\n",
       "      <td>35920.0</td>\n",
       "      <td>1364.0</td>\n",
       "    </tr>\n",
       "    <tr>\n",
       "      <th>6</th>\n",
       "      <td>140</td>\n",
       "      <td>42040.0</td>\n",
       "      <td>1176.0</td>\n",
       "    </tr>\n",
       "    <tr>\n",
       "      <th>7</th>\n",
       "      <td>150</td>\n",
       "      <td>45000.0</td>\n",
       "      <td>1000.0</td>\n",
       "    </tr>\n",
       "    <tr>\n",
       "      <th>8</th>\n",
       "      <td>160</td>\n",
       "      <td>45160.0</td>\n",
       "      <td>836.0</td>\n",
       "    </tr>\n",
       "    <tr>\n",
       "      <th>9</th>\n",
       "      <td>170</td>\n",
       "      <td>42880.0</td>\n",
       "      <td>684.0</td>\n",
       "    </tr>\n",
       "    <tr>\n",
       "      <th>10</th>\n",
       "      <td>180</td>\n",
       "      <td>38520.0</td>\n",
       "      <td>544.0</td>\n",
       "    </tr>\n",
       "    <tr>\n",
       "      <th>11</th>\n",
       "      <td>190</td>\n",
       "      <td>32440.0</td>\n",
       "      <td>416.0</td>\n",
       "    </tr>\n",
       "    <tr>\n",
       "      <th>12</th>\n",
       "      <td>200</td>\n",
       "      <td>25000.0</td>\n",
       "      <td>300.0</td>\n",
       "    </tr>\n",
       "    <tr>\n",
       "      <th>13</th>\n",
       "      <td>210</td>\n",
       "      <td>16560.0</td>\n",
       "      <td>196.0</td>\n",
       "    </tr>\n",
       "    <tr>\n",
       "      <th>14</th>\n",
       "      <td>220</td>\n",
       "      <td>7480.0</td>\n",
       "      <td>104.0</td>\n",
       "    </tr>\n",
       "    <tr>\n",
       "      <th>15</th>\n",
       "      <td>230</td>\n",
       "      <td>-1880.0</td>\n",
       "      <td>24.0</td>\n",
       "    </tr>\n",
       "    <tr>\n",
       "      <th>16</th>\n",
       "      <td>240</td>\n",
       "      <td>-11160.0</td>\n",
       "      <td>-44.0</td>\n",
       "    </tr>\n",
       "    <tr>\n",
       "      <th>17</th>\n",
       "      <td>250</td>\n",
       "      <td>-20000.0</td>\n",
       "      <td>-100.0</td>\n",
       "    </tr>\n",
       "  </tbody>\n",
       "</table>\n",
       "</div>"
      ],
      "text/plain": [
       "    selling_price   profit  demand\n",
       "0              80 -54680.0  2484.0\n",
       "1              90 -27360.0  2236.0\n",
       "2             100  -5000.0  2000.0\n",
       "3             110  12760.0  1776.0\n",
       "4             120  26280.0  1564.0\n",
       "5             130  35920.0  1364.0\n",
       "6             140  42040.0  1176.0\n",
       "7             150  45000.0  1000.0\n",
       "8             160  45160.0   836.0\n",
       "9             170  42880.0   684.0\n",
       "10            180  38520.0   544.0\n",
       "11            190  32440.0   416.0\n",
       "12            200  25000.0   300.0\n",
       "13            210  16560.0   196.0\n",
       "14            220   7480.0   104.0\n",
       "15            230  -1880.0    24.0\n",
       "16            240 -11160.0   -44.0\n",
       "17            250 -20000.0  -100.0"
      ]
     },
     "execution_count": 164,
     "metadata": {},
     "output_type": "execute_result"
    }
   ],
   "source": [
    "one_way_inputs_new = {'selling_price': np.arange(80, 251, 10)}\n",
    "one_way_output_new = ['profit', 'demand']\n",
    "\n",
    "one_way_df_new = model.data_table(one_way_inputs_new, one_way_output_new)\n",
    "one_way_df_new"
   ]
  },
  {
   "cell_type": "markdown",
   "metadata": {},
   "source": [
    "We have two sign changes in this data table (i.e. two roots): one occuring between a selling price of 100 and 110 and another one occuring between a selling price of 220 and 230. \n",
    "\n",
    "We start out with a negative profit for our first interval and end with a negative profit for our last interval which breaks the algorithm since f(a_n) * f(b_n) is greater than 0 for our first iteration which in this case is **-54,680** and **-20,000** (-54,680 profit for selling price of 80 and -20,000 profit for selling price of 250).\n",
    "\n",
    "The line the bisection algorithm stops at is this one:\n",
    "```python\n",
    "        if (f_a_0 - target) * (f_b_0 - target) >= 0:\n",
    "            # print(\"Bisection method fails.\")\n",
    "            return None\n",
    "```\n",
    "\n",
    "where `f_a_0` = -54,680, `f_b_0` = -20,000, and `target` = 0. \n",
    "\n",
    "Now it makes sense why `goal_seek`, in the way that it's currently implemented, failed to find a solution/root (i.e. `-54,680 * -20,000 >= 0` evaluates to `True` so `None` is returned)"
   ]
  },
  {
   "cell_type": "markdown",
   "metadata": {},
   "source": [
    "### Simulation"
   ]
  },
  {
   "cell_type": "code",
   "execution_count": 165,
   "metadata": {},
   "outputs": [],
   "source": [
    "from numpy.random import default_rng\n",
    "rg = default_rng(100) # setting a seed for reproducibility\n"
   ]
  },
  {
   "cell_type": "code",
   "execution_count": 166,
   "metadata": {},
   "outputs": [
    {
     "name": "stdout",
     "output_type": "stream",
     "text": [
      "The mean of 'var_cost_sim', using 1,000 \"samples\"/iterations, is $100.75 and the type of the 'var_cost_sim' object is <class 'numpy.ndarray'>\n"
     ]
    }
   ],
   "source": [
    "# lower bound of 80 and upper bound (exclusive) of 120, returning 1,000 results\n",
    "var_cost_sim = rg.uniform(80, 120, 1000)\n",
    "print(f\"The mean of 'var_cost_sim', using 1,000 \\\"samples\\\"/iterations, is ${np.mean(var_cost_sim):,.2f} and the type of the 'var_cost_sim' object is {type(var_cost_sim)}\")"
   ]
  },
  {
   "cell_type": "code",
   "execution_count": 167,
   "metadata": {},
   "outputs": [
    {
     "name": "stdout",
     "output_type": "stream",
     "text": [
      "Let's see what `sim_results` looks like: \n",
      "[{'scenario_base_vals': {'fixed_cost': 5000, 'var_cost': array([113.39926522, 103.86216108,  91.55452967,  81.71806283,\n",
      "       118.9461758 , 103.85886816, 111.61052658, 116.41357525,\n",
      "       107.5261779 ,  87.59965894, 119.25915923,  91.389602  ,\n",
      "       105.17092679, 103.24145915, 103.99649093, 101.40992421,\n",
      "       119.83108417, 100.07784339, 110.84090306,  99.76647115,\n",
      "       119.90697973, 119.14487685,  95.7427218 ,  92.87701051,\n",
      "       114.48722604, 111.97299581, 107.65722531,  96.34071407,\n",
      "        95.59060531,  85.26593582, 105.01989951,  83.29605482,\n",
      "        90.98291955, 106.24468108,  80.58704121, 113.38128688,\n",
      "        82.89596312, 100.96483293, 101.86202062,  89.08987851,\n",
      "       118.23912865,  93.63855403, 100.18829763, 114.69534446,\n",
      "       106.27811799,  95.38889631,  83.85089631, 118.23222495,\n",
      "       103.58268536, 103.2865157 , 103.88581088,  85.95495733,\n",
      "       102.40194514, 102.52670081, 103.2395274 ,  87.3979598 ,\n",
      "       108.38475648,  82.80082623,  92.99459757,  84.2742188 ,\n",
      "       109.92114775, 100.06296029,  98.65232415,  82.94773489,\n",
      "        97.68385537,  88.94044309,  92.11902906,  95.77392033,\n",
      "       108.26522595, 111.45452555,  94.27344381, 106.80519406,\n",
      "       100.4089248 , 106.84581043,  93.21328285, 115.93678244,\n",
      "       106.51168041,  87.67189386, 103.00634101, 109.97611524,\n",
      "       111.19701313,  97.50926253,  91.13250739, 104.64096333,\n",
      "       109.19605357, 100.28940586,  87.38431372, 104.57176591,\n",
      "       110.41408272, 116.60057833, 119.77795327,  94.73116998,\n",
      "       112.22380441, 107.58144405, 118.91745847, 100.35071495,\n",
      "       114.42566032, 100.16185316,  91.53010995, 118.41530454,\n",
      "        91.36296411,  92.42632933,  82.39126075,  80.01825098,\n",
      "        93.66236728,  90.82777331, 109.06135754,  80.58598751,\n",
      "       115.66290119, 112.6607164 , 116.38596408, 110.69895568,\n",
      "       106.30010889, 110.55177469, 115.18969354, 114.15337988,\n",
      "        90.81919894, 118.09287671, 119.70584494, 107.74668604,\n",
      "       104.52435428, 104.53736858, 107.43448483, 116.25400261,\n",
      "        92.37249093,  96.02546468,  92.63351423, 108.87712234,\n",
      "        81.36243452,  96.14337333,  96.18157668,  95.73702684,\n",
      "       102.74149308,  89.81719995, 115.67397166,  95.1258329 ,\n",
      "       118.30791534, 117.21615301,  93.90747579,  94.75146949,\n",
      "       104.78626692,  95.87627891,  84.31159484,  91.28053198,\n",
      "        87.43759343,  96.84558137, 115.61203191,  98.72164879,\n",
      "        81.84196513, 110.71069828, 114.43926048, 115.3360647 ,\n",
      "        96.73954561,  91.81248411, 118.8808399 ,  95.20090268,\n",
      "       102.32823236, 119.21084298, 114.07629148, 115.65661643,\n",
      "       116.78728505, 108.42871739,  93.07310565,  87.5454086 ,\n",
      "       109.83270421, 102.9222852 ,  83.35025111, 114.60923779,\n",
      "        83.68526197, 113.78976163, 111.9853418 , 119.15907457,\n",
      "        91.0341164 ,  81.0560409 , 100.68322381, 117.33501841,\n",
      "       117.87101517,  94.15749896,  95.66915012, 118.46936003,\n",
      "       112.76396095, 117.54738107, 112.34278391, 100.40539811,\n",
      "        85.52677986, 100.91591468,  83.60430996, 111.33169388,\n",
      "       108.34380056, 103.2596486 ,  94.28175588, 109.0446676 ,\n",
      "        97.46825286,  97.82568075, 104.5097408 , 104.42543595,\n",
      "        88.71190598, 109.44301842,  87.33755062, 111.82256623,\n",
      "        91.47135182,  99.89379649, 107.67864678,  97.91730037,\n",
      "        99.59295989,  83.49653574, 110.97182803,  97.79721248,\n",
      "       102.08606347,  88.06870788, 106.46544607,  82.45282712,\n",
      "        87.14547153, 107.50296685, 108.03534203, 100.40470319,\n",
      "        88.99620646, 118.53050094,  83.31755795,  89.75518607,\n",
      "       111.57752086, 111.02227597, 103.58076352, 100.93744787,\n",
      "        93.87393525,  86.37758473, 105.80634705,  96.00841184,\n",
      "       110.96998205,  86.37969068,  96.2938364 , 104.95383311,\n",
      "        97.54841142,  81.15006407, 101.58709996,  83.56744397,\n",
      "        80.68366233,  88.75224937,  87.30315442, 109.24707376,\n",
      "       107.97868337, 111.6300223 , 111.79274078, 118.08822823,\n",
      "        97.994088  , 114.75788908, 105.72263904, 105.89249522,\n",
      "        86.76085084, 114.99362548, 109.21598176, 104.44270205,\n",
      "        91.52984745,  90.30673223, 107.5128004 , 112.51455628,\n",
      "       111.8882804 ,  80.70631534, 115.76596707, 100.71254068,\n",
      "        88.68788535, 109.08826237, 110.85170598, 117.10778783,\n",
      "        98.33334598, 104.47789506, 118.82184005,  97.07378662,\n",
      "        84.95113182, 109.35026125, 112.85197721, 102.43023924,\n",
      "        98.56789361,  89.28159638, 118.1097146 , 115.63883347,\n",
      "        81.82288145,  85.64205135,  97.97260967, 103.38307718,\n",
      "       104.50896205,  92.92737301,  87.23079827,  82.71471601,\n",
      "       114.80409016, 104.68331016,  94.3477113 , 111.80349849,\n",
      "       111.90992578,  99.45739778, 111.19569733, 113.33579966,\n",
      "        96.58325959,  80.83094645, 108.34492954,  90.82634278,\n",
      "        88.32311622,  87.8383055 , 103.14055603,  80.43237737,\n",
      "       111.98664084,  97.73950162,  92.102608  , 109.05398839,\n",
      "       119.35102052,  94.20475529, 105.46946828,  92.95542117,\n",
      "       100.44708934,  97.80675269, 110.23888936,  89.98574802,\n",
      "       101.44919538,  80.38948796, 112.15910503,  94.35193009,\n",
      "        97.50519837,  90.7767193 ,  86.85775936,  89.02941358,\n",
      "        97.69571161, 115.42296482, 106.43194964,  95.31426902,\n",
      "        85.94262333, 107.87902765, 110.91357933, 113.03709803,\n",
      "        85.16352546,  84.38963096, 103.8028018 , 115.37139724,\n",
      "       108.53918048, 119.04014132, 118.44816159, 111.25026349,\n",
      "        85.36916399,  95.86025687, 107.63750028, 110.16282544,\n",
      "       107.98852036, 114.93598687, 114.68103023, 109.76775248,\n",
      "        95.88343594,  86.78129895,  97.0738861 ,  87.91210399,\n",
      "        99.61247509,  90.28814892,  85.96259321, 116.70040744,\n",
      "       100.88742176, 111.32001312, 113.97420206, 103.53854595,\n",
      "       100.95061669, 110.7712735 ,  86.25433187,  93.84297314,\n",
      "       113.58360619, 112.25873788,  83.45245122, 116.52669277,\n",
      "        90.54109357, 102.72815768,  88.68155965,  83.03835554,\n",
      "       114.85605171, 108.68189985,  82.45349382, 110.64018607,\n",
      "       108.99760043, 116.4164609 , 118.23853516, 116.95679548,\n",
      "        93.7185815 , 102.28271222, 114.62074596,  90.23567113,\n",
      "       110.81852396,  98.90547777,  92.53080585,  81.80772186,\n",
      "       103.43925179, 119.48998079,  84.67177491, 106.06177008,\n",
      "       109.19770198, 105.30019986, 113.16175   , 101.67307996,\n",
      "        94.83249488,  89.41734076, 107.55492582,  94.80559435,\n",
      "       113.35794763, 103.23476609,  89.12559193,  99.94590727,\n",
      "        82.2727432 ,  83.11928899,  99.06031474, 103.54939614,\n",
      "       119.13901856,  80.86427516,  92.55950709,  89.36890299,\n",
      "        94.76069794,  85.65152488,  84.75896062,  89.24566831,\n",
      "        86.28312243, 104.14524686,  98.00535563, 116.64607371,\n",
      "       115.33310085, 110.10261455, 109.81381475,  98.19679643,\n",
      "       102.39187119, 104.10811326, 117.3208667 ,  90.33096027,\n",
      "       103.95812687, 118.33604164, 107.20469158, 104.27438447,\n",
      "        91.25287846,  96.98568285, 100.32624578,  84.67334796,\n",
      "        92.68523857,  99.21303528, 106.19410278, 118.16611463,\n",
      "        80.79266771,  97.96853676,  82.80633241, 106.14120045,\n",
      "        86.44493376,  91.81194629, 101.83340371, 110.91212013,\n",
      "        96.2427305 ,  89.61364099,  91.59976664,  97.47801797,\n",
      "       109.05056512, 115.28762876, 119.28567026, 116.65612008,\n",
      "       118.36638687,  98.92041131,  95.55962882,  99.14143826,\n",
      "        95.54716283, 102.34058986, 103.67260523,  83.000113  ,\n",
      "       119.86380238, 110.09439232,  89.7933775 , 108.42760654,\n",
      "       119.08729143,  99.18043632,  88.21813448, 102.38762008,\n",
      "        95.37903309, 106.96939053,  85.4450624 , 111.02314594,\n",
      "        87.93147973, 108.78470648,  82.08839625, 113.72309769,\n",
      "        85.26509543, 108.1480016 ,  98.65838446,  90.97852804,\n",
      "       103.24606824, 117.40776745, 100.2766305 , 115.98600284,\n",
      "       114.07933687,  93.96051974, 111.52366469, 109.23805174,\n",
      "        98.85350024, 111.8676317 , 109.68344141,  83.21567308,\n",
      "       114.03468388,  97.03691451, 115.57594261, 115.75126332,\n",
      "        96.76469113,  87.78782617,  90.51843927, 111.85777372,\n",
      "        94.74297409, 115.26267919,  94.13343676,  86.41256061,\n",
      "       112.94285096,  98.84134748, 108.85041503, 110.21406724,\n",
      "        85.8074766 , 108.78946284,  81.89093896, 104.0399899 ,\n",
      "       116.21262177,  88.40022782, 106.20007255, 115.94602741,\n",
      "       113.87542341,  84.96596188, 102.43855498,  85.1846332 ,\n",
      "        93.48750172, 101.17230148, 113.4639611 , 117.43998798,\n",
      "        98.10116048,  92.8916627 ,  89.63894147,  86.09478532,\n",
      "       105.66454268,  86.23421662, 102.68811226,  94.45211252,\n",
      "        82.3309801 ,  90.32116193,  94.92353686,  85.21169178,\n",
      "        91.02041676, 101.27092368, 103.01165766,  83.2947319 ,\n",
      "        85.52216127,  99.15859612,  84.65058681,  98.15849334,\n",
      "       111.89562304, 102.54504224,  91.88668362, 103.11013987,\n",
      "        82.52550065,  98.16506974, 109.36685593,  88.77924336,\n",
      "       115.75613305, 106.11812028,  81.39614296, 112.0653582 ,\n",
      "        92.46366767, 107.47015403, 116.89043288, 104.50090953,\n",
      "        89.01078214, 100.78425736, 119.12220166,  98.4251141 ,\n",
      "        82.41391265, 114.28308546, 116.89107173,  86.22724815,\n",
      "        84.71730901, 102.89950144, 106.19758608, 112.08392845,\n",
      "       103.60602184,  82.04142762, 100.01313419, 111.57997146,\n",
      "       114.32347281, 112.81812136,  93.42495773, 104.71547971,\n",
      "       113.13413055, 115.50130751,  93.46263769,  81.90308115,\n",
      "       105.01159212,  93.30347991,  88.27134417,  91.24327364,\n",
      "        98.1924535 ,  83.20022248,  87.93120089,  84.7555838 ,\n",
      "       104.58216023,  80.47364852,  90.24757701,  85.40476309,\n",
      "        83.1574612 , 112.84852466,  83.95776076, 114.65966172,\n",
      "        90.84405009,  97.72789632,  94.69874046, 114.85181149,\n",
      "       114.45524241,  97.45015265,  87.32041273, 104.4902465 ,\n",
      "       108.38637884,  95.0543753 ,  89.51756817, 117.89338641,\n",
      "       101.76673041,  91.5821636 ,  92.6378177 , 109.12176308,\n",
      "       105.71529367, 110.2021933 ,  90.89055528,  94.28933852,\n",
      "        90.37854888,  97.3131621 , 106.71051019, 105.61921861,\n",
      "        91.59386353, 103.36903763, 112.89768719, 112.05329513,\n",
      "        88.73465187,  81.07912343,  85.66062513, 103.72521916,\n",
      "        81.78151669,  82.60256762, 113.49575664,  95.30386031,\n",
      "        97.97550248,  81.56269592,  87.24377439,  82.01180499,\n",
      "       112.94094924,  89.11081818, 113.4553689 , 100.95483336,\n",
      "       112.60438123,  89.94983591,  94.75412013, 103.80499115,\n",
      "        90.94086873,  90.75725281, 116.58403233,  81.24845659,\n",
      "        99.45235059, 109.6080837 ,  93.10474241, 116.86557582,\n",
      "        97.45109959, 114.17876941, 116.99643371, 108.05931283,\n",
      "       118.46922203, 100.18012025, 112.52629117,  93.88122698,\n",
      "        89.42859022,  88.38333282,  93.73721156,  96.19304047,\n",
      "       117.6735209 , 100.06509776, 114.2107986 , 110.81957193,\n",
      "        88.97663803,  99.89239203, 107.27324032,  87.91078927,\n",
      "        99.6161071 ,  86.84811183, 112.6912206 ,  98.58181518,\n",
      "        90.20463336,  81.45991169, 103.52233649, 116.52242035,\n",
      "       112.44903589, 114.13087953,  99.66685736,  90.48600725,\n",
      "       112.42786315, 116.24473866,  86.25457318, 110.3950636 ,\n",
      "       114.89283917, 101.52065618, 102.68627148,  95.7471669 ,\n",
      "       118.62844018, 104.97942671, 104.37518266, 102.1522943 ,\n",
      "        98.94471454,  80.56093432,  87.29438961,  93.27573461,\n",
      "        96.70202466, 105.01741444, 103.8712664 , 114.42836787,\n",
      "        86.07438847, 100.00802054, 102.88900264, 108.44168064,\n",
      "        89.24018402, 100.54255452,  86.24572544, 103.99712937,\n",
      "       105.06337061, 117.30800657, 106.0347882 ,  84.95799392,\n",
      "       100.44701321, 107.7495691 , 107.80744568, 118.0480656 ,\n",
      "        98.04876929, 100.43156027, 109.57193519,  88.4972642 ,\n",
      "       101.27807691, 101.70691106, 118.51580518,  94.49349425,\n",
      "        83.60802065,  87.97237906, 109.33726236,  87.17326364,\n",
      "        90.80867034, 119.91052898, 100.04820038,  89.77853582,\n",
      "        93.55228346,  82.00880717, 113.83747962,  88.64144634,\n",
      "        85.89534671, 107.27698135, 103.05504047,  87.80941251,\n",
      "        96.96440199, 114.44556162, 101.5319402 ,  93.70582992,\n",
      "       100.97888017,  92.87721234,  82.03863395,  84.87809181,\n",
      "       110.11630682,  95.92973228, 105.93199685, 114.85554259,\n",
      "       102.00804763,  83.25730826, 111.62889529, 103.88735416,\n",
      "       108.45192452,  80.81565475, 119.20933005, 111.28375652,\n",
      "        88.67584534, 102.19523378,  91.42070779,  93.99445453,\n",
      "       115.29302704,  94.68831912, 115.98665166, 100.652944  ,\n",
      "       102.04819541,  86.70936128, 119.53403677, 113.0915361 ,\n",
      "       113.7162395 , 105.73368491,  93.87972103,  87.81676024,\n",
      "        91.00456858, 117.45994622, 112.11081535,  98.09155422,\n",
      "       110.33006988,  88.96864856, 112.32920373, 103.25125642,\n",
      "       115.23428987, 103.00085208, 112.82832061,  98.43855339,\n",
      "       118.43606087, 105.25270421, 100.19661556,  82.52543088,\n",
      "       117.91612309,  83.56881848,  96.55581742, 105.36154154,\n",
      "        94.23617405,  86.52866261, 107.09343779, 103.98681965,\n",
      "       109.01264166, 112.63324527,  90.94804921, 105.02212816,\n",
      "       117.329925  ,  98.01299559, 111.51200029,  97.73602293,\n",
      "       104.11198928,  95.5325688 , 106.59086239, 108.90180377,\n",
      "        97.20933761, 116.74789897,  99.83630661,  87.73188806,\n",
      "       100.34253849,  93.10147123, 117.96569213, 108.94411898,\n",
      "        90.76888492,  89.39646838,  92.63749665, 102.9613918 ,\n",
      "       107.96407643, 113.2100793 , 119.70674755,  84.53103293,\n",
      "        82.5703881 , 109.6906582 ,  83.41949634,  88.74593508,\n",
      "       116.41187668, 102.55989883,  81.2212356 ,  81.10191651,\n",
      "       112.20634556, 100.60730794, 112.38702789,  87.32078288,\n",
      "       116.83838566,  87.17563111, 117.58802207, 109.11202765,\n",
      "       109.84934276, 109.26844072, 103.00412708,  93.1269928 ,\n",
      "        95.72264885, 113.18023456, 100.72068944,  99.5080919 ,\n",
      "        90.66768019,  91.43824208, 118.2174523 , 109.74366118,\n",
      "        94.37406187, 114.1638689 , 119.43044778, 119.5863896 ,\n",
      "       113.71451377, 111.27063299,  98.63871135, 109.36477483,\n",
      "       113.10641931,  91.41674455,  92.33997771, 110.68370044,\n",
      "       115.78609064, 108.27629248,  94.60937164, 115.09767321,\n",
      "        95.17736194,  83.75564937, 119.72235782, 108.62942073,\n",
      "        89.10666238,  98.39611859,  94.66064789, 100.21396075,\n",
      "       117.96249179,  80.94419174,  85.65383643, 116.48528982,\n",
      "       119.27610837, 114.20822732,  91.90763642,  87.74926342,\n",
      "        86.23943682, 111.68345662, 108.42828615, 100.02876733,\n",
      "        85.45842994,  95.48701521, 101.44537515,  94.41791976,\n",
      "        85.97492802, 108.64057674,  89.89657963, 115.68106864,\n",
      "       119.89990606, 119.26564519,  85.53146989,  84.90264301,\n",
      "        88.72174846,  93.85778974,  81.32600664,  93.24425878,\n",
      "        87.33595337, 106.55047074, 105.91976975,  80.48793591,\n",
      "        80.27580839,  84.30740246, 114.34924969, 103.95923385,\n",
      "        83.60236671, 108.91122316, 111.82765163, 108.00106218,\n",
      "        86.02451709,  90.34596516, 102.1395894 , 111.95901957,\n",
      "       102.1855931 ,  88.16498971,  91.54744317, 113.49801968,\n",
      "        90.01776149, 104.61472735, 111.03571322,  86.88985448,\n",
      "        99.98542607,  98.93831766, 104.40329608,  82.63862257,\n",
      "        98.65584029,  96.04076596,  86.52735456, 106.72547543,\n",
      "        91.49362431,  82.17856975, 113.19041982,  93.14039786,\n",
      "        97.0117905 ,  96.90263278, 108.24327994, 119.55417468,\n",
      "        93.93384682, 112.64446938,  94.64521277,  91.30414634,\n",
      "       101.88086266, 110.86824688,  92.71467796,  81.6800954 ,\n",
      "        93.38417843, 116.84675008, 117.89841451,  95.886086  ,\n",
      "        87.47360919, 110.70688418,  92.0383355 ,  89.54958733,\n",
      "       110.79508251, 105.89072846,  98.73025553, 110.74818284,\n",
      "        96.77363708, 113.7820554 , 101.46831708, 105.94508537,\n",
      "        92.78965661, 102.32275594,  93.72986752, 117.92220703,\n",
      "       101.91550503, 104.52564353,  81.24262759, 111.18737641,\n",
      "       118.93863467, 110.23839359, 100.61672101, 105.97897522,\n",
      "        85.37096934,  89.38125079, 102.09806785,  80.52388403,\n",
      "        92.4109922 , 113.19689165,  81.15094919,  86.42756451]), 'selling_price': 115, 'spf_constant': 4900, 'spf_linear': 35, 'spf_quadratic': 0.06}, 'scenario_num': 0, 'scenario_vals': {}, 'output': {'profit': array([-2.32917402e+03,  1.35834842e+04,  3.41187672e+04,  5.05309122e+04,\n",
      "       -1.15841943e+04,  1.35889785e+04,  6.55336407e+02, -7.35855031e+03,\n",
      "        7.47007217e+03,  4.07174691e+04, -1.21064072e+04,  3.43939491e+04,\n",
      "        1.13998087e+04,  1.46191254e+04,  1.33593549e+04,  1.76750414e+04,\n",
      "       -1.30606639e+04,  1.98976183e+04,  1.93945325e+03,  2.04171429e+04,\n",
      "       -1.31872957e+04, -1.19157270e+04,  2.71307687e+04,  3.19122080e+04,\n",
      "       -4.14443666e+03,  5.05564831e+01,  7.25141957e+03,  2.61330186e+04,\n",
      "        2.73845750e+04,  4.46112861e+04,  1.16517977e+04,  4.78980325e+04,\n",
      "        3.50724987e+04,  9.60824961e+03,  5.24180217e+04, -2.29917716e+03,\n",
      "        4.85655855e+04,  1.84176763e+04,  1.69207186e+04,  3.82310377e+04,\n",
      "       -1.04044862e+04,  3.06415726e+04,  1.97133254e+04, -4.49168223e+03,\n",
      "        9.55246013e+03,  2.77211265e+04,  4.69722795e+04, -1.03929673e+04,\n",
      "        1.40497895e+04,  1.45439486e+04,  1.35440245e+04,  4.34616537e+04,\n",
      "        1.60198545e+04,  1.58116997e+04,  1.46223485e+04,  4.10540041e+04,\n",
      "        6.03753382e+03,  4.87243214e+04,  3.17160140e+04,  4.62659659e+04,\n",
      "        3.47406498e+03,  1.99224507e+04,  2.22760972e+04,  4.84792043e+04,\n",
      "        2.38919873e+04,  3.84803707e+04,  3.31769000e+04,  2.70787139e+04,\n",
      "        6.23697050e+03,  9.15624112e+02,  2.95822590e+04,  8.67303371e+03,\n",
      "        1.93452090e+04,  8.60526530e+03,  3.13511376e+04, -6.56302150e+03,\n",
      "        9.16276123e+03,  4.05969451e+04,  1.50114200e+04,  3.38235173e+03,\n",
      "        1.34528358e+03,  2.41832955e+04,  3.48229114e+04,  1.22840527e+04,\n",
      "        4.68388462e+03,  1.95446263e+04,  4.10767726e+04,  1.23995086e+04,\n",
      "        2.65160298e+03, -7.67056494e+03, -1.29720150e+04,  2.88185429e+04,\n",
      "       -3.67917654e+02,  7.37786060e+03, -1.15362795e+04,  1.94423321e+04,\n",
      "       -4.04171425e+03,  1.97574480e+04,  3.41595116e+04, -1.06984356e+04,\n",
      "        3.44383944e+04,  3.26641695e+04,  4.94076814e+04,  5.33670482e+04,\n",
      "        3.06018402e+04,  3.53313602e+04,  4.90862494e+03,  5.24197798e+04,\n",
      "       -6.10605063e+03, -1.09690531e+03, -7.31248108e+03,  2.17629244e+03,\n",
      "        9.51576831e+03,  2.42186394e+03, -5.31650367e+03, -3.58741432e+03,\n",
      "        3.53456666e+04, -1.01604648e+04, -1.28517023e+04,  7.10215434e+03,\n",
      "        1.24786149e+04,  1.24569005e+04,  7.62306206e+03, -7.09230336e+03,\n",
      "        3.27539989e+04,  2.66590122e+04,  3.23184815e+04,  5.21602138e+03,\n",
      "        5.11242780e+04,  2.64622816e+04,  2.63985393e+04,  2.71402707e+04,\n",
      "        1.54533188e+04,  3.70175019e+04, -6.12452172e+03,  2.81600478e+04,\n",
      "       -1.05192567e+04, -8.69765129e+03,  3.01928766e+04,  2.87846732e+04,\n",
      "        1.20416136e+04,  2.69079286e+04,  4.62036040e+04,  3.45759324e+04,\n",
      "        4.09878754e+04,  2.52906475e+04, -6.02117523e+03,  2.21604290e+04,\n",
      "        5.03241812e+04,  2.15669993e+03, -4.06440611e+03, -5.56072395e+03,\n",
      "        2.54675681e+04,  3.36883703e+04, -1.14751814e+04,  2.80347939e+04,\n",
      "        1.61428443e+04, -1.20257915e+04, -3.45879234e+03, -6.09556451e+03,\n",
      "       -7.98208511e+03,  5.96418503e+03,  3.15850232e+04,  4.08079858e+04,\n",
      "        3.62163302e+03,  1.51516671e+04,  4.78076060e+04, -4.34801324e+03,\n",
      "        4.72486404e+04, -2.98071728e+03,  2.99572067e+01, -1.19394159e+04,\n",
      "        3.49870768e+04,  5.16354958e+04,  1.88875411e+04, -8.89597822e+03,\n",
      "       -9.79028881e+03,  2.97757130e+04,  2.72535230e+04, -1.07886272e+04,\n",
      "       -1.26916884e+03, -9.25030532e+03, -5.66434956e+02,  1.93510933e+04,\n",
      "        4.41760678e+04,  1.84992963e+04,  4.73837088e+04,  1.12056876e+03,\n",
      "        6.10586876e+03,  1.45887763e+04,  2.95683903e+04,  4.93647211e+03,\n",
      "        2.42517201e+04,  2.36553517e+04,  1.25029975e+04,  1.26436601e+04,\n",
      "        3.88616849e+04,  4.27182376e+03,  4.11547968e+04,  3.01548241e+02,\n",
      "        3.42575495e+04,  2.02047005e+04,  7.21567785e+03,  2.35024843e+04,\n",
      "        2.07066464e+04,  4.75635301e+04,  1.72100494e+03,  2.37028510e+04,\n",
      "        1.65469031e+04,  3.99348609e+04,  9.23990323e+03,  4.93049580e+04,\n",
      "        4.14752807e+04,  7.50879981e+03,  6.62053181e+03,  1.93522527e+04,\n",
      "        3.83873295e+04, -1.08906408e+04,  4.78621546e+04,  3.71209720e+04,\n",
      "        7.10406442e+02,  1.63683255e+03,  1.40529961e+04,  1.84633682e+04,\n",
      "        3.02488390e+04,  4.27564999e+04,  1.03396100e+04,  2.66874649e+04,\n",
      "        1.72408496e+03,  4.27529861e+04,  2.62112340e+04,  1.17620295e+04,\n",
      "        2.41179755e+04,  5.14786181e+04,  1.73794237e+04,  4.74452197e+04,\n",
      "        5.22568094e+04,  3.87943719e+04,  4.12121868e+04,  4.59875742e+03,\n",
      "        6.71506679e+03,  6.22807786e+02,  3.51312001e+02, -1.01527088e+04,\n",
      "        2.33743642e+04, -4.59603793e+03,  1.04792768e+04,  1.01958717e+04,\n",
      "        4.21170204e+04, -4.98936411e+03,  4.65063443e+03,  1.26148516e+04,\n",
      "        3.41599495e+04,  3.62007173e+04,  7.49239254e+03, -8.53037149e+02,\n",
      "        1.91904147e+02,  5.22190129e+04, -6.27801606e+03,  1.88386259e+04,\n",
      "        3.89017633e+04,  4.86373424e+03,  1.92142857e+03, -8.51684399e+03,\n",
      "        2.28083122e+04,  1.25561321e+04, -1.13767401e+04,  2.49098870e+04,\n",
      "        4.51365366e+04,  4.42658911e+03, -1.41602397e+03,  1.59726458e+04,\n",
      "        2.24169695e+04,  3.79111564e+04, -1.01885588e+04, -6.06589365e+03,\n",
      "        5.03560223e+04,  4.39837373e+04,  2.34102008e+04,  1.43828357e+04,\n",
      "        1.25042968e+04,  3.18281781e+04,  4.13329131e+04,  4.88679963e+04,\n",
      "       -4.67312443e+03,  1.22133970e+04,  2.94583437e+04,  3.33362767e+02,\n",
      "        1.55788828e+02,  2.09328318e+04,  1.34747900e+03, -2.22328174e+03,\n",
      "        2.57283314e+04,  5.20110659e+04,  6.10398507e+03,  3.53337471e+04,\n",
      "        3.95103806e+04,  4.03192873e+04,  1.47874823e+04,  5.26760783e+04,\n",
      "        2.77897535e+01,  2.37991415e+04,  3.32042985e+04,  4.92092038e+03,\n",
      "       -1.22596777e+04,  2.96968658e+04,  1.09016922e+04,  3.17813798e+04,\n",
      "        1.92815314e+04,  2.36869331e+04,  2.94391310e+03,  3.67362794e+04,\n",
      "        1.76095175e+04,  5.27476393e+04, -2.59966735e+02,  2.94513046e+04,\n",
      "        2.41900765e+04,  3.54165438e+04,  4.19553285e+04,  3.83319234e+04,\n",
      "        2.38722052e+04, -5.70571680e+03,  9.29579203e+03,  2.78456421e+04,\n",
      "        4.34822330e+04,  6.88134237e+03,  1.81819289e+03, -1.72489807e+03,\n",
      "        4.47821578e+04,  4.60734007e+04,  1.36825252e+04, -5.61967630e+03,\n",
      "        5.77987738e+03, -1.17409758e+04, -1.07532576e+04,  1.25643537e+03,\n",
      "        4.44390499e+04,  2.69346614e+04,  7.28433078e+03,  3.07082575e+03,\n",
      "        6.69865378e+03, -4.89319409e+03, -4.46779893e+03,  3.73000498e+03,\n",
      "        2.68959871e+04,  4.20829027e+04,  2.49097210e+04,  4.01961545e+04,\n",
      "        2.06740853e+04,  3.62317235e+04,  4.34489132e+04, -7.83712982e+03,\n",
      "        1.85468368e+04,  1.14005811e+03, -3.28845614e+03,  1.41234361e+04,\n",
      "        1.84413960e+04,  2.05563016e+03,  4.29621473e+04,  3.03004993e+04,\n",
      "       -2.63674693e+03, -4.26204147e+02,  4.76370851e+04, -7.54728688e+03,\n",
      "        3.58096854e+04,  1.54755689e+04,  3.89123177e+04,  4.83280038e+04,\n",
      "       -4.75982227e+03,  5.54175011e+03,  4.93038456e+04,  2.27434954e+03,\n",
      "        5.01500368e+03, -7.36336501e+03, -1.04034959e+04, -8.26491327e+03,\n",
      "        3.05080468e+04,  1.62187947e+04, -4.36721463e+03,  3.63192827e+04,\n",
      "        1.97679277e+03,  2.18537103e+04,  3.24898504e+04,  5.03813161e+04,\n",
      "        1.42891084e+04, -1.24915329e+04,  4.56026436e+04,  9.91343663e+03,\n",
      "        4.68113425e+03,  1.11841165e+04, -1.93287988e+03,  1.72359661e+04,\n",
      "        2.86494823e+04,  3.76846669e+04,  7.42210628e+03,  2.86943658e+04,\n",
      "       -2.26023562e+03,  1.46302928e+04,  3.81714499e+04,  2.01177537e+04,\n",
      "        4.96054280e+04,  4.81929663e+04,  2.15953649e+04,  1.41053325e+04,\n",
      "       -1.19059525e+04,  5.19554569e+04,  3.24419624e+04,  3.77654854e+04,\n",
      "        2.87692755e+04,  4.39679307e+04,  4.54571742e+04,  3.79711024e+04,\n",
      "        4.29141102e+04,  1.31111556e+04,  2.33555641e+04, -7.74647399e+03,\n",
      "       -5.55577876e+03,  3.17128763e+03,  3.65315008e+03,  2.30361452e+04,\n",
      "        1.60366629e+04,  1.31731130e+04, -8.87236609e+03,  3.61602928e+04,\n",
      "        1.34233653e+04, -1.05661855e+04,  8.00647210e+03,  1.28956895e+04,\n",
      "        3.46220723e+04,  2.50568882e+04,  1.94831589e+04,  4.56000189e+04,\n",
      "        3.22321794e+04,  2.13405506e+04,  9.69263951e+03, -1.02826623e+04,\n",
      "        5.20749339e+04,  2.34169964e+04,  4.87151344e+04,  9.78090705e+03,\n",
      "        4.26441280e+04,  3.36892676e+04,  1.69684659e+04,  1.82062757e+03,\n",
      "        2.62965042e+04,  3.73571400e+04,  3.40432894e+04,  2.42354270e+04,\n",
      "        4.92663210e+03, -5.47990859e+03, -1.21506408e+04, -7.76323636e+03,\n",
      "       -1.06168165e+04,  2.18287937e+04,  2.74362593e+04,  2.14600103e+04,\n",
      "        2.74570588e+04,  1.61222258e+04,  1.38997582e+04,  4.83918115e+04,\n",
      "       -1.31152543e+04,  3.18500641e+03,  3.70572496e+04,  5.96603848e+03,\n",
      "       -1.18196457e+04,  2.13949420e+04,  3.96855426e+04,  1.60437559e+04,\n",
      "        2.77375833e+04,  8.39907190e+03,  4.43124134e+04,  1.63538099e+03,\n",
      "        4.01638261e+04,  5.37021724e+03,  4.99130109e+04, -2.86948849e+03,\n",
      "        4.46126883e+04,  6.43255934e+03,  2.22659855e+04,  3.50798260e+04,\n",
      "        1.46114351e+04, -9.01735999e+03,  1.95659420e+04, -6.64514573e+03,\n",
      "       -3.46387356e+03,  3.01043728e+04,  8.00265464e+02,  4.61381068e+03,\n",
      "        2.19404349e+04,  2.26356508e+02,  3.87067801e+03,  4.80321495e+04,\n",
      "       -3.38937005e+03,  2.49714081e+04, -5.96096024e+03, -6.25348285e+03,\n",
      "        2.54256128e+04,  4.04035120e+04,  3.58474841e+04,  2.42804550e+02,\n",
      "        2.87988477e+04, -5.43828023e+03,  2.98158608e+04,  4.26981426e+04,\n",
      "       -1.56764683e+03,  2.19607117e+04,  5.26058253e+03,  2.98532881e+03,\n",
      "        4.37077253e+04,  5.36228125e+03,  5.02424684e+04,  1.32867768e+04,\n",
      "       -7.02325943e+03,  3.93817199e+04,  9.68267896e+03, -6.57844673e+03,\n",
      "       -3.12364396e+03,  4.51117926e+04,  1.59587710e+04,  4.47469395e+04,\n",
      "        3.08936034e+04,  1.80715150e+04, -2.43711910e+03, -9.07111994e+03,\n",
      "        2.31957137e+04,  3.18877608e+04,  3.73149262e+04,  4.32283507e+04,\n",
      "        1.05762105e+04,  4.29957096e+04,  1.55423847e+04,  2.92841503e+04,\n",
      "        4.95082597e+04,  3.61766413e+04,  2.84975787e+04,  4.47017923e+04,\n",
      "        3.50099346e+04,  1.79069638e+04,  1.50025492e+04,  4.79002398e+04,\n",
      "        4.41837739e+04,  2.14313824e+04,  4.56379959e+04,  2.31000539e+04,\n",
      "        1.79652952e+02,  1.57810970e+04,  3.35645684e+04,  1.48382316e+04,\n",
      "        4.91837022e+04,  2.30890811e+04,  4.39890089e+03,  3.87493325e+04,\n",
      "       -6.26160799e+03,  9.81941631e+03,  5.10680355e+04, -1.03550162e+02,\n",
      "        3.26018705e+04,  7.56354800e+03, -8.15418726e+03,  1.25177324e+04,\n",
      "        3.83630100e+04,  1.87189666e+04, -1.18778935e+04,  2.26551971e+04,\n",
      "        4.93698867e+04, -3.80382809e+03, -8.15525318e+03,  4.30073365e+04,\n",
      "        4.55266699e+04,  1.51896818e+04,  9.68682763e+03, -1.34534625e+02,\n",
      "        1.40108526e+04,  4.99913780e+04,  2.00055856e+04,  7.06317616e+02,\n",
      "       -3.87121439e+03, -1.35953549e+03,  3.09979580e+04,  1.21597221e+04,\n",
      "       -1.88679682e+03, -5.83643159e+03,  3.09350890e+04,  5.02222091e+04,\n",
      "        1.16656585e+04,  3.12006438e+04,  3.95967622e+04,  3.46380979e+04,\n",
      "        2.30433913e+04,  4.80579288e+04,  4.01642913e+04,  4.54628084e+04,\n",
      "        1.23821657e+04,  5.26072174e+04,  3.62994178e+04,  4.43796528e+04,\n",
      "        4.81292760e+04, -1.41026339e+03,  4.67939762e+04, -4.43214558e+03,\n",
      "        3.53042024e+04,  2.38185050e+04,  2.88726515e+04, -4.75274747e+03,\n",
      "       -4.09107196e+03,  2.42819203e+04,  4.11833914e+04,  1.25355237e+04,\n",
      "        6.03482691e+03,  2.82792748e+04,  3.75174375e+04, -9.82761522e+03,\n",
      "        1.70797103e+04,  3.40726600e+04,  3.23113012e+04,  4.80783830e+03,\n",
      "        1.04915325e+04,  3.00514048e+03,  3.52266085e+04,  2.95557387e+04,\n",
      "        3.60808912e+04,  2.45104890e+04,  8.83101375e+03,  1.06518337e+04,\n",
      "        3.40531387e+04,  1.44062607e+04, -1.49229108e+03, -8.34229274e+01,\n",
      "        3.88237333e+04,  5.15969826e+04,  4.39527470e+04,  1.38119718e+04,\n",
      "        5.04250394e+04,  4.90551159e+04, -2.49016995e+03,  2.78630091e+04,\n",
      "        2.34053741e+04,  5.07901419e+04,  4.13112624e+04,  5.00408034e+04,\n",
      "       -1.56447381e+03,  3.81960999e+04, -2.42278300e+03,  1.84343605e+04,\n",
      "       -1.00291009e+03,  3.67961988e+04,  2.87802506e+04,  1.36788723e+04,\n",
      "        3.51426605e+04,  3.54490237e+04, -7.64295794e+03,  5.13144502e+04,\n",
      "        2.09412530e+04,  3.99641235e+03,  3.15322373e+04, -8.11271326e+03,\n",
      "        2.42803403e+04, -3.62977676e+03, -8.33104965e+03,  6.58053655e+03,\n",
      "       -1.07883970e+04,  1.97269694e+04, -8.72616813e+02,  3.02366728e+04,\n",
      "        3.76658972e+04,  3.94099092e+04,  3.04769625e+04,  2.63794120e+04,\n",
      "       -9.46076962e+03,  1.99188844e+04, -3.68321747e+03,  1.97504424e+03,\n",
      "        3.84199794e+04,  2.02070439e+04,  7.89209853e+03,  4.01983481e+04,\n",
      "        2.06680253e+04,  4.19714254e+04, -1.14780157e+03,  2.23937414e+04,\n",
      "        3.63710692e+04,  5.09616373e+04,  1.41504816e+04, -7.54015835e+03,\n",
      "       -7.43716383e+02, -3.54987249e+03,  2.05833485e+04,  3.59015969e+04,\n",
      "       -7.08389673e+02, -7.07684645e+03,  4.29617446e+04,  2.68333639e+03,\n",
      "       -4.82120215e+03,  1.74902852e+04,  1.55454560e+04,  2.71233520e+04,\n",
      "       -1.10540524e+04,  1.17193265e+04,  1.27275077e+04,  1.64363970e+04,\n",
      "        2.17882438e+04,  5.24615811e+04,  4.12268109e+04,  3.12469368e+04,\n",
      "        2.55301719e+04,  1.16559440e+04,  1.35682920e+04, -4.04623179e+03,\n",
      "        4.32623828e+04,  2.00141177e+04,  1.52071991e+04,  5.94255586e+03,\n",
      "        3.79802530e+04,  1.91222478e+04,  4.29765071e+04,  1.33582896e+04,\n",
      "        1.15792661e+04, -8.85090896e+03,  9.95845588e+03,  4.51250872e+04,\n",
      "        1.92816585e+04,  7.09734396e+03,  7.00077689e+03, -1.00856975e+04,\n",
      "        2.32831284e+04,  1.93074417e+04,  4.05672614e+03,  3.92198147e+04,\n",
      "        1.78950287e+04,  1.71795189e+04, -1.08661209e+04,  2.92151049e+04,\n",
      "        4.73775175e+04,  4.00955855e+04,  4.44827776e+03,  4.14289096e+04,\n",
      "        3.53632335e+04, -1.31932176e+04,  1.99470777e+04,  3.70820130e+04,\n",
      "        3.07855150e+04,  5.00458052e+04, -3.06033474e+03,  3.89792468e+04,\n",
      "        4.35611140e+04,  7.88585661e+03,  1.49301650e+04,  4.03674952e+04,\n",
      "        2.50923953e+04, -4.07491956e+03,  1.74714578e+04,  3.05293228e+04,\n",
      "        1.83942384e+04,  3.19118712e+04,  4.99960393e+04,  4.52584038e+04,\n",
      "        3.14844207e+03,  2.68187417e+04,  1.01299633e+04, -4.75897282e+03,\n",
      "        1.66770725e+04,  4.79626812e+04,  6.24688215e+02,  1.35414496e+04,\n",
      "        5.92546393e+03,  5.20365801e+04, -1.20232672e+04,  1.20055225e+03,\n",
      "        3.89218521e+04,  1.63647524e+04,  3.43420491e+04,  3.00477526e+04,\n",
      "       -5.48891562e+03,  2.88900396e+04, -6.64622829e+03,  1.89380629e+04,\n",
      "        1.66100860e+04,  4.22029307e+04, -1.25650404e+04, -1.81572798e+03,\n",
      "       -2.85804561e+03,  1.04608467e+04,  3.02391855e+04,  4.03552355e+04,\n",
      "        3.50363773e+04, -9.10442027e+03, -1.79395415e+02,  2.32117418e+04,\n",
      "        2.79177840e+03,  3.84333099e+04, -5.43776415e+02,  1.46027787e+04,\n",
      "       -5.39091265e+03,  1.50205783e+04, -1.37655294e+03,  2.26327737e+04,\n",
      "       -1.07330676e+04,  1.12633630e+04,  1.96994469e+04,  4.91838186e+04,\n",
      "       -9.86555138e+03,  4.74429264e+04,  2.57741186e+04,  1.10817679e+04,\n",
      "        2.96444436e+04,  4.25044264e+04,  8.19209904e+03,  1.33754914e+04,\n",
      "        4.98990739e+03, -1.05106973e+03,  3.51306799e+04,  1.16480792e+04,\n",
      "       -8.88747986e+03,  2.33428169e+04,  8.19727510e+02,  2.38049457e+04,\n",
      "        1.31666459e+04,  2.74814090e+04,  9.03064610e+03,  5.17484041e+03,\n",
      "        2.46837202e+04, -7.91636944e+03,  2.03006224e+04,  4.04968448e+04,\n",
      "        1.94559745e+04,  3.15376953e+04, -9.94825732e+03,  5.10423747e+03,\n",
      "        3.54296155e+04,  3.77194925e+04,  3.23118368e+04,  1.50864178e+04,\n",
      "        6.73943848e+03, -2.01351731e+03, -1.28532083e+04,  4.58374716e+04,\n",
      "        4.91088074e+04,  3.85863680e+03,  4.76920703e+04,  3.88049073e+04,\n",
      "       -7.35571625e+03,  1.57563088e+04,  5.13598684e+04,  5.15589523e+04,\n",
      "       -3.38787572e+02,  1.90142067e+04, -6.40256037e+02,  4.11827738e+04,\n",
      "       -8.06734648e+03,  4.14249595e+04, -9.31811482e+03,  4.82408186e+03,\n",
      "        3.59387160e+03,  4.56310666e+03,  1.50151140e+04,  3.14951125e+04,\n",
      "        2.71642604e+04, -1.96372136e+03,  1.88250297e+04,  2.08482487e+04,\n",
      "        3.55984756e+04,  3.43127931e+04, -1.03683192e+04,  3.77020132e+03,\n",
      "        2.94143778e+04, -3.60491526e+03, -1.23922021e+04, -1.26523910e+04,\n",
      "       -2.85516622e+03,  1.22244886e+03,  2.22988101e+04,  4.40237319e+03,\n",
      "       -1.84056062e+03,  3.43486617e+04,  3.28082472e+04,  2.20174582e+03,\n",
      "       -6.31159224e+03,  6.21850600e+03,  2.90217634e+04, -5.16296775e+03,\n",
      "        2.80740716e+04,  4.71311990e+04, -1.28792540e+04,  5.62931152e+03,\n",
      "        3.82030338e+04,  2.27035761e+04,  2.89362090e+04,  1.96705065e+04,\n",
      "       -9.94291755e+03,  5.18221161e+04,  4.39640739e+04, -7.47820607e+03,\n",
      "       -1.21346868e+04, -3.67892728e+03,  3.35296086e+04,  4.04678540e+04,\n",
      "        4.29869997e+04,  5.33652636e+02,  5.96490456e+03,  1.99795017e+04,\n",
      "        4.42901096e+04,  2.75574151e+04,  1.76158916e+04,  2.93412009e+04,\n",
      "        4.34283326e+04,  5.61069770e+03,  3.68850569e+04, -6.13636303e+03,\n",
      "       -1.31754933e+04, -1.21172290e+04,  4.41682425e+04,  4.52174401e+04,\n",
      "        3.88452627e+04,  3.02757778e+04,  5.11850579e+04,  3.12994542e+04,\n",
      "        4.11574618e+04,  9.09803957e+03,  1.01503642e+04,  5.25833789e+04,\n",
      "        5.29373137e+04,  4.62105990e+04, -3.91422311e+03,  1.34215183e+04,\n",
      "        4.73869511e+04,  5.15912416e+03,  2.93063248e+02,  6.67772775e+03,\n",
      "        4.33455932e+04,  3.61352571e+04,  1.64575951e+04,  7.38758403e+01,\n",
      "        1.63808379e+04,  3.97742147e+04,  3.41305911e+04, -2.49394584e+03,\n",
      "        3.66828650e+04,  1.23278274e+04,  1.61441249e+03,  4.19017778e+04,\n",
      "        2.00518166e+04,  2.17989170e+04,  1.26806005e+04,  4.89949582e+04,\n",
      "        2.22702305e+04,  2.66334820e+04,  4.25066089e+04,  8.80604424e+03,\n",
      "        3.42203878e+04,  4.97625564e+04, -1.98071548e+03,  3.14727462e+04,\n",
      "        2.50133276e+04,  2.51954572e+04,  6.27358742e+03, -1.25986405e+04,\n",
      "        3.01488766e+04, -1.06979717e+03,  2.89619625e+04,  3.45365318e+04,\n",
      "        1.68892806e+04,  1.89383009e+03,  3.21830598e+04,  5.05942608e+04,\n",
      "        3.10659983e+04, -8.08130252e+03, -9.83600462e+03,  2.68915655e+04,\n",
      "        4.09277831e+04,  2.16306374e+03,  3.33115372e+04,  3.74640135e+04,\n",
      "        2.01590483e+03,  1.01988196e+04,  2.21460687e+04,  2.09415694e+03,\n",
      "        2.54106865e+04, -2.96785943e+03,  1.75776130e+04,  1.01081251e+04,\n",
      "        3.20579579e+04,  1.61519817e+04,  3.04892160e+04, -9.87570244e+03,\n",
      "        1.68314799e+04,  1.24764638e+04,  5.13241759e+04,  1.36136247e+03,\n",
      "       -1.15716119e+04,  2.94474030e+03,  1.89985010e+04,  1.00515798e+04,\n",
      "        4.44360377e+04,  3.77448831e+04,  1.65268738e+04,  5.25233995e+04,\n",
      "        3.26897595e+04, -1.99151371e+03,  5.14771413e+04,  4.26731086e+04]), 'demand': 1668.5}}]\n"
     ]
    }
   ],
   "source": [
    "# getting our parameters for the `simulate` function ready\n",
    "random_inputs = {'var_cost': var_cost_sim}\n",
    "outputs = ['profit', 'demand']\n",
    "scenario_inputs = None # {'selling_price': np.arange(80, 251, 10)}\n",
    "keep_random_inputs = True\n",
    "\n",
    "# calling the `simulate` function with our parameters\n",
    "sim_results = model.simulate(random_inputs, outputs, scenario_inputs, keep_random_inputs)\n",
    "print(f\"Let's see what `sim_results` looks like: \\n{sim_results}\")"
   ]
  },
  {
   "cell_type": "markdown",
   "metadata": {},
   "source": [
    "#### Histogram of profit"
   ]
  },
  {
   "cell_type": "markdown",
   "metadata": {},
   "source": [
    "This is kind of hard to look at and understand, let's visualize `profit` with a histogram instead."
   ]
  },
  {
   "cell_type": "code",
   "execution_count": 168,
   "metadata": {},
   "outputs": [
    {
     "data": {
      "image/png": "[encoded data removed]",
      "text/plain": [
       "<Figure size 432x288 with 1 Axes>"
      ]
     },
     "metadata": {
      "needs_background": "light"
     },
     "output_type": "display_data"
    },
    {
     "name": "stdout",
     "output_type": "stream",
     "text": [
      "Overall mean of `profit` is: $18,783.14\n"
     ]
    }
   ],
   "source": [
    "# Storing the `profit` ndarrays for each scenario in a list\n",
    "profit_sim = [scenario['output']['profit'] for scenario in sim_results]\n",
    "\n",
    "# Storing a list of all the means of the profit scenarios\n",
    "profit_sim_mean_list = [np.mean(profit_scenario) for profit_scenario in profit_sim]\n",
    "\n",
    "# Storing the overall mean. this is okay to do since the size of the `output` arrays will always be the same. It might not be okay to do otherwise\n",
    "profit_sim_mean = np.mean(profit_sim_mean_list)\n",
    "\n",
    "# Creating our PyPlot histogram object and feeding it the `profit_sim` list of ndarrays consisting of `profit` outputs with varying `var_cost` values along with some optional parameters\n",
    "# note: even with multiple scenarios, which would include multiple arrays in the list, PyPlot would be able to handle it\n",
    "plt.hist(profit_sim, density=True, color='pink') \n",
    "\n",
    "# Title, x, and y label for clarity\n",
    "plt.xlabel('Profit')\n",
    "plt.ylabel('Probability density')\n",
    "plt.title('Histogram of the Probability Distribution of Profit with Varying Variable Cost')\n",
    "\n",
    "# Grid for clarity\n",
    "plt.grid(True)\n",
    "\n",
    "# Showing the mean via a vertical line\n",
    "plt.axvline(profit_sim_mean, color='blue', linestyle='dashed', linewidth=2)\n",
    "\n",
    "plt.show()\n",
    "\n",
    "print(f\"Overall mean of `profit` is: ${profit_sim_mean:,.2f}\")"
   ]
  },
  {
   "cell_type": "markdown",
   "metadata": {},
   "source": [
    "An alternative approach using the user-defined `get_sim_results_df` function within the `whatif` package (that I forgot about)."
   ]
  },
  {
   "cell_type": "code",
   "execution_count": 169,
   "metadata": {},
   "outputs": [],
   "source": [
    "from whatif import get_sim_results_df"
   ]
  },
  {
   "cell_type": "code",
   "execution_count": 170,
   "metadata": {},
   "outputs": [
    {
     "data": {
      "text/html": [
       "<div>\n",
       "<style scoped>\n",
       "    .dataframe tbody tr th:only-of-type {\n",
       "        vertical-align: middle;\n",
       "    }\n",
       "\n",
       "    .dataframe tbody tr th {\n",
       "        vertical-align: top;\n",
       "    }\n",
       "\n",
       "    .dataframe thead th {\n",
       "        text-align: right;\n",
       "    }\n",
       "</style>\n",
       "<table border=\"1\" class=\"dataframe\">\n",
       "  <thead>\n",
       "    <tr style=\"text-align: right;\">\n",
       "      <th></th>\n",
       "      <th>profit</th>\n",
       "      <th>demand</th>\n",
       "      <th>scenario_num</th>\n",
       "    </tr>\n",
       "  </thead>\n",
       "  <tbody>\n",
       "    <tr>\n",
       "      <th>0</th>\n",
       "      <td>-2329.174020</td>\n",
       "      <td>1668.5</td>\n",
       "      <td>0</td>\n",
       "    </tr>\n",
       "    <tr>\n",
       "      <th>1</th>\n",
       "      <td>13583.484240</td>\n",
       "      <td>1668.5</td>\n",
       "      <td>0</td>\n",
       "    </tr>\n",
       "    <tr>\n",
       "      <th>2</th>\n",
       "      <td>34118.767250</td>\n",
       "      <td>1668.5</td>\n",
       "      <td>0</td>\n",
       "    </tr>\n",
       "    <tr>\n",
       "      <th>3</th>\n",
       "      <td>50530.912172</td>\n",
       "      <td>1668.5</td>\n",
       "      <td>0</td>\n",
       "    </tr>\n",
       "    <tr>\n",
       "      <th>4</th>\n",
       "      <td>-11584.194329</td>\n",
       "      <td>1668.5</td>\n",
       "      <td>0</td>\n",
       "    </tr>\n",
       "    <tr>\n",
       "      <th>...</th>\n",
       "      <td>...</td>\n",
       "      <td>...</td>\n",
       "      <td>...</td>\n",
       "    </tr>\n",
       "    <tr>\n",
       "      <th>995</th>\n",
       "      <td>52523.399501</td>\n",
       "      <td>1668.5</td>\n",
       "      <td>0</td>\n",
       "    </tr>\n",
       "    <tr>\n",
       "      <th>996</th>\n",
       "      <td>32689.759520</td>\n",
       "      <td>1668.5</td>\n",
       "      <td>0</td>\n",
       "    </tr>\n",
       "    <tr>\n",
       "      <th>997</th>\n",
       "      <td>-1991.513713</td>\n",
       "      <td>1668.5</td>\n",
       "      <td>0</td>\n",
       "    </tr>\n",
       "    <tr>\n",
       "      <th>998</th>\n",
       "      <td>51477.141270</td>\n",
       "      <td>1668.5</td>\n",
       "      <td>0</td>\n",
       "    </tr>\n",
       "    <tr>\n",
       "      <th>999</th>\n",
       "      <td>42673.108617</td>\n",
       "      <td>1668.5</td>\n",
       "      <td>0</td>\n",
       "    </tr>\n",
       "  </tbody>\n",
       "</table>\n",
       "<p>1000 rows × 3 columns</p>\n",
       "</div>"
      ],
      "text/plain": [
       "           profit  demand  scenario_num\n",
       "0    -2329.174020  1668.5             0\n",
       "1    13583.484240  1668.5             0\n",
       "2    34118.767250  1668.5             0\n",
       "3    50530.912172  1668.5             0\n",
       "4   -11584.194329  1668.5             0\n",
       "..            ...     ...           ...\n",
       "995  52523.399501  1668.5             0\n",
       "996  32689.759520  1668.5             0\n",
       "997  -1991.513713  1668.5             0\n",
       "998  51477.141270  1668.5             0\n",
       "999  42673.108617  1668.5             0\n",
       "\n",
       "[1000 rows x 3 columns]"
      ]
     },
     "execution_count": 170,
     "metadata": {},
     "output_type": "execute_result"
    }
   ],
   "source": [
    "sim_results_df = get_sim_results_df(sim_results)\n",
    "sim_results_df"
   ]
  },
  {
   "cell_type": "markdown",
   "metadata": {},
   "source": [
    "Same as before but with the dataframe columns. Let's actually change up the parameters a bit to see the bins cumulatively and let's put another horizontal line at `profit` = 0.\n",
    "\n",
    "This will allow us to visualize the probability that profit is negative."
   ]
  },
  {
   "cell_type": "code",
   "execution_count": 171,
   "metadata": {},
   "outputs": [
    {
     "data": {
      "image/png": "[encoded data removed]",
      "text/plain": [
       "<Figure size 432x288 with 1 Axes>"
      ]
     },
     "metadata": {
      "needs_background": "light"
     },
     "output_type": "display_data"
    },
    {
     "name": "stdout",
     "output_type": "stream",
     "text": [
      "Overall mean of `profit` is: $18,783.14\n"
     ]
    }
   ],
   "source": [
    "# Creating our PyPlot histogram object and feeding it the `profit_sim` list of ndarrays consisting of `profit` outputs with varying `var_cost` values along with some optional parameters\n",
    "# note: even with multiple scenarios, which would include multiple arrays in the list, PyPlot would be able to handle it\n",
    "plt.hist(sim_results_df['profit'], density=True, color='pink', cumulative=True) \n",
    "\n",
    "# Title, x, and y label for clarity\n",
    "plt.xlabel('Profit')\n",
    "plt.ylabel('Probability density')\n",
    "plt.title('Histogram of the Probability Distribution of Profit with Varying Variable Cost')\n",
    "\n",
    "# Grid for clarity\n",
    "plt.grid(True)\n",
    "\n",
    "# Showing the mean and profit=0 via horizontal lines\n",
    "plt.axvline(profit_sim_mean, color='blue', linestyle='dashed', linewidth=2)\n",
    "plt.axvline(0, color='teal', linestyle='dashed', linewidth=2)\n",
    "\n",
    "plt.show()\n",
    "\n",
    "print(f\"Overall mean of `profit` is: ${profit_sim_mean:,.2f}\")"
   ]
  },
  {
   "cell_type": "markdown",
   "metadata": {},
   "source": [
    "#### Probability of negative profit"
   ]
  },
  {
   "cell_type": "markdown",
   "metadata": {},
   "source": [
    "Since the bins in the histogram above are cumulative (the probability at a bin is the sum of that bin's probability plus the probability of the bins that came before it), we can see that `profit` has a 20% chance of being in the negatives (look at the bin to the left of the teal vertical line at profit = 0)."
   ]
  },
  {
   "cell_type": "code",
   "execution_count": 172,
   "metadata": {},
   "outputs": [
    {
     "data": {
      "text/plain": [
       "(array([0.099, 0.21 , 0.329, 0.42 , 0.536, 0.625, 0.726, 0.826, 0.917,\n",
       "        1.   ]),\n",
       " array([-13193.21759888,  -6537.19101429,    118.8355703 ,   6774.86215489,\n",
       "         13430.88873947,  20086.91532406,  26742.94190865,  33398.96849324,\n",
       "         40054.99507783,  46711.02166242,  53367.04824701]),\n",
       " <BarContainer object of 10 artists>)"
      ]
     },
     "execution_count": 172,
     "metadata": {},
     "output_type": "execute_result"
    }
   ],
   "source": [
    "# to suppress showing the histogram inline\n",
    "%matplotlib agg\n",
    "\n",
    "sim_hist = plt.hist(sim_results_df['profit'], density=True, color='pink', cumulative=True)\n",
    "sim_hist"
   ]
  },
  {
   "cell_type": "markdown",
   "metadata": {},
   "source": [
    "The first array returned from `sim_hist` variable (which is a tuple) is the array of y-values corresponding to each bin. The second array are the edges of the bins. The last item is a BarContainer object. \n",
    "\n",
    "From this we can gauge the cumulative probability between the edges of the second and third item which correspond to the second bin (profit = 0 falls inside the second bin as seen from the sign change in the values of the array as well as visually in the histogram). The second bin has a probability of **0.21** (which will vary each the notebook is ran and random variates are generated again), so about 20% as we said before from eyeballing it."
   ]
  },
  {
   "cell_type": "code",
   "execution_count": 173,
   "metadata": {},
   "outputs": [],
   "source": [
    "# so we revert to the GUI backend instead of the non-GUI agg backend\n",
    "%matplotlib inline"
   ]
  },
  {
   "cell_type": "markdown",
   "metadata": {},
   "source": [
    "## Analysis 2 - Wrangling csv files"
   ]
  },
  {
   "cell_type": "markdown",
   "metadata": {},
   "source": [
    "Let's import what we need first"
   ]
  },
  {
   "cell_type": "code",
   "execution_count": 174,
   "metadata": {},
   "outputs": [],
   "source": [
    "import os\n",
    "from glob import glob\n",
    "from openpyxl import Workbook\n",
    "from openpyxl.utils.dataframe import dataframe_to_rows\n",
    "from openpyxl.worksheet import dimensions\n",
    "from pathlib import Path"
   ]
  },
  {
   "cell_type": "markdown",
   "metadata": {},
   "source": [
    "### Consolidation"
   ]
  },
  {
   "cell_type": "markdown",
   "metadata": {},
   "source": [
    "Note: The csv files were manually copied to the `data` and `raw` directories, although more complicated or programmatic tasks would require the copying to be done through code as in the `using_python_with_excel` notebook by Professor Isken."
   ]
  },
  {
   "cell_type": "markdown",
   "metadata": {},
   "source": [
    "We are only working with the BCM stream, that was obvious from the homework. I did this in case I decided to create a more flexible approach to creating consolidated Excel files."
   ]
  },
  {
   "cell_type": "code",
   "execution_count": 175,
   "metadata": {},
   "outputs": [],
   "source": [
    "# Create an empty workbook \n",
    "bcm_wb = Workbook()\n",
    "\n",
    "# Set destination path\n",
    "dest_path = Path.cwd() / 'output' / 'BCM.xlsx' # Path.cwd() / 'data' / (stream_names[0] + '.xlsx')\n",
    "\n",
    "# Save the workbook\n",
    "bcm_wb.save(filename=dest_path)\n",
    "\n",
    "# Inputs\n",
    "csvs_path = Path.cwd() / 'data'\n",
    "\n",
    "header_names = ['datetime', 'scale', 'temperature']\n",
    "\n",
    "# Loop over all the csv files \n",
    "counter = 0\n",
    "for csv_f in csvs_path.glob('*.csv'):\n",
    "    # Split the filename off from csv extension. We'll use the filename\n",
    "    # (without the extension) as the key in the dfs dict.\n",
    "    fstem = csv_f.stem\n",
    "\n",
    "    ws = bcm_wb.create_sheet(title=fstem, index=counter)\n",
    "    counter += 1\n",
    "    \n",
    "    # Read the next csv file into a pandas DataFrame and add it to\n",
    "    # the worksheet\n",
    "    df = pd.read_csv(csv_f, names=header_names, parse_dates=['datetime'])\n",
    "            \n",
    "    # Append the dataframe to the worksheet\n",
    "    for r in dataframe_to_rows(df, index=False, header=True):\n",
    "        ws.append(r)\n",
    "        \n",
    "    # Add some styling to the headers\n",
    "    for cell in ws['1']:\n",
    "        cell.style = 'Pandas'\n",
    "    \n",
    "    bcm_wb.save(dest_path)\n",
    "    \n",
    "# will have to figure out a clean way of autofitting column width another time"
   ]
  },
  {
   "cell_type": "markdown",
   "metadata": {},
   "source": [
    "### Summarization"
   ]
  },
  {
   "cell_type": "code",
   "execution_count": 176,
   "metadata": {},
   "outputs": [],
   "source": [
    "from openpyxl import load_workbook\n",
    "\n",
    "# load workbook\n",
    "wb = load_workbook(filename=dest_path)\n",
    "\n",
    "# loop over the worksheets of our previously saved workbook object\n",
    "for ws in wb:\n",
    "    # add new labels\n",
    "    ws['G2'] = 'min_temp'\n",
    "    ws['G3'] = 'max_temp'\n",
    "    ws['G4'] = 'mean_temp'\n",
    "    ws['G6'] = 'min_date'\n",
    "    ws['G7'] = 'max_date'\n",
    "    \n",
    "    # get max row of the worksheet. There's probably a cleaner way of doing this by looking at the max row of the column, not the worksheet\n",
    "    # this will work for now though as the max row will always be from column A (or B or C since they're equivalent) instead of G or H\n",
    "    max_row = ws.max_row\n",
    "    \n",
    "    # add the formulas\n",
    "    ws['H2'] = '=MIN(C2:C' + str(max_row) +  ')'\n",
    "    ws['H3'] = '=MAX(C2:C' + str(max_row) +  ')'\n",
    "    ws['H4'] = '=AVERAGE(C2:C' + str(max_row) +  ')'\n",
    "    ws['H6'] = '=MIN(A2:A' + str(max_row) +  ')'\n",
    "    ws['H7'] = '=MAX(A2:A' + str(max_row) +  ')'\n",
    "            \n",
    "    # reformat the cells for a uniform and cleaner presentation with only 1 decimal place\n",
    "    ws['H2'].number_format = '0.0'\n",
    "    ws['H3'].number_format = '0.0'\n",
    "    ws['H4'].number_format = '0.0'\n",
    "    ws['H6'].number_format = 'yyyy-mm-dd h:mm:ss'\n",
    "    ws['H7'].number_format = 'yyyy-mm-dd h:mm:ss'\n",
    "    \n",
    "    # resize all our columns with data\n",
    "    ws.column_dimensions['A'].bestFit = True\n",
    "    ws.column_dimensions['B'].bestFit = True\n",
    "    ws.column_dimensions['C'].bestFit = True\n",
    "    ws.column_dimensions['G'].bestFit = True\n",
    "    ws.column_dimensions['H'].bestFit = True\n",
    "    \n",
    "    # For some reason the columns that have datetime values are not getting the actual best fit\n",
    "    # I think it has to do with how the values are stored as integers so bestFit might be fitting to that integer value\n",
    "    # Adding a little extra padding to help\n",
    "    ws.column_dimensions['A'].width = ws.column_dimensions['A'].width * 1.4\n",
    "    ws.column_dimensions['H'].width = ws.column_dimensions['H'].width * 1.4\n",
    "    \n",
    "    # save the workbook object\n",
    "    wb.save(dest_path)\n",
    "    "
   ]
  },
  {
   "cell_type": "code",
   "execution_count": null,
   "metadata": {},
   "outputs": [],
   "source": []
  }
 ],
 "metadata": {
  "kernelspec": {
   "display_name": "Python [conda env:aap]",
   "language": "python",
   "name": "conda-env-aap-py"
  },
  "language_info": {
   "codemirror_mode": {
    "name": "ipython",
    "version": 3
   },
   "file_extension": ".py",
   "mimetype": "text/x-python",
   "name": "python",
   "nbconvert_exporter": "python",
   "pygments_lexer": "ipython3",
   "version": "3.7.13"
  },
  "toc-autonumbering": true
 },
 "nbformat": 4,
 "nbformat_minor": 4
}
