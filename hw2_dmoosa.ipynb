{
 "cells": [
  {
   "cell_type": "markdown",
   "metadata": {
    "Collapsed": "false"
   },
   "source": [
    "# MIS 6900 - HW2 - Excel type things with Python"
   ]
  },
  {
   "cell_type": "markdown",
   "metadata": {
    "Collapsed": "false"
   },
   "source": [
    "## Preliminaries"
   ]
  },
  {
   "cell_type": "code",
   "execution_count": 1,
   "metadata": {
    "Collapsed": "false"
   },
   "outputs": [],
   "source": [
    "# To auto-reload modules in jupyter notebook (so that changes in files *.py doesn't require manual reloading):\n",
    "# https://stackoverflow.com/questions/5364050/reloading-submodules-in-ipython\n",
    "%load_ext autoreload\n",
    "%autoreload 2"
   ]
  },
  {
   "cell_type": "markdown",
   "metadata": {
    "Collapsed": "false"
   },
   "source": [
    "Import commonly used libraries and magic command for inline plotting"
   ]
  },
  {
   "cell_type": "code",
   "execution_count": 2,
   "metadata": {
    "Collapsed": "false"
   },
   "outputs": [],
   "source": [
    "import numpy as np\n",
    "import pandas as pd\n",
    "import matplotlib.pyplot as plt\n",
    "import seaborn as sns\n"
   ]
  },
  {
   "cell_type": "code",
   "execution_count": 3,
   "metadata": {},
   "outputs": [],
   "source": [
    "%matplotlib inline"
   ]
  },
  {
   "cell_type": "markdown",
   "metadata": {},
   "source": [
    "Import the `whatif` module"
   ]
  },
  {
   "cell_type": "code",
   "execution_count": 4,
   "metadata": {},
   "outputs": [],
   "source": [
    "from whatif import Model\n",
    "from whatif import get_sim_results_df"
   ]
  },
  {
   "cell_type": "markdown",
   "metadata": {
    "Collapsed": "false"
   },
   "source": [
    "## Analysis 1 - Basic Break-even Analysis"
   ]
  },
  {
   "cell_type": "markdown",
   "metadata": {},
   "source": [
    "Problem description:\n",
    "\n",
    "The owner of a relatively small business is trying to determine the breakeven level of sales of the company's single product. The fixed cost of manufacturing product each month is **\\\\$5,000**. The variable cost of producing this product is **\\\\$100** per unit. The current selling price is **\\\\$115**. Using historical data on selling price and monthly demand, the owner fit the folllowing function relating to demand and selling price:\n",
    "\n",
    "$D = 0.06S^2 - 35S + 4900$\n",
    "\n",
    "where *D* is the monthly demand for the product and *S* is the selling price. This is a 2nd order polynomial function. Let's call this equation the `Selling Price Function` (or `SPF`, for short)."
   ]
  },
  {
   "cell_type": "markdown",
   "metadata": {
    "Collapsed": "false"
   },
   "source": [
    "### Base Model"
   ]
  },
  {
   "cell_type": "code",
   "execution_count": 136,
   "metadata": {},
   "outputs": [],
   "source": [
    "class SingleProductSPF(Model):\n",
    "    \"\"\"Base model\"\"\"\n",
    "    def __init__(self, fixed_cost = 5000, var_cost = 100, selling_price = 115, \n",
    "                 spf_constant = 4900, spf_linear = 35, spf_quadratic = 0.06):\n",
    "        self.fixed_cost = fixed_cost\n",
    "        self.var_cost = var_cost\n",
    "        self.selling_price = selling_price\n",
    "        self.spf_constant = spf_constant\n",
    "        self.spf_linear = spf_linear\n",
    "        self.spf_quadratic = spf_quadratic\n",
    "    \n",
    "    def demand(self):\n",
    "        demand = (self.spf_quadratic * (self.selling_price ** 2)) - (self.spf_linear * self.selling_price) + (self.spf_constant)\n",
    "        return demand\n",
    "    \n",
    "    def total_cost(self):\n",
    "        total_cost = (self.demand() * self.var_cost) + self.fixed_cost\n",
    "        return total_cost\n",
    "    \n",
    "    def total_revenue(self):\n",
    "        total_revenue = self.demand() * self.selling_price\n",
    "        return total_revenue\n",
    "    \n",
    "    def profit(self):\n",
    "        profit = self.total_revenue() - self.total_cost()\n",
    "        return profit\n",
    "    "
   ]
  },
  {
   "cell_type": "markdown",
   "metadata": {},
   "source": [
    "Instantiating an instance of our SPF model and confirming that we're getting the correct demand and profit value with default parameters"
   ]
  },
  {
   "cell_type": "code",
   "execution_count": 137,
   "metadata": {},
   "outputs": [
    {
     "name": "stdout",
     "output_type": "stream",
     "text": [
      "Single product SPF model demand with selling price set at $115.00 is: $1,668.50\n",
      "Single product SPF model profit with selling price set at $115.00 is: $20,027.50\n",
      "Single product SPF model attributes: {'fixed_cost': 5000, 'var_cost': 100, 'selling_price': 115, 'spf_constant': 4900, 'spf_linear': 35, 'spf_quadratic': 0.06}\n"
     ]
    }
   ],
   "source": [
    "model = SingleProductSPF()\n",
    "print(f\"Single product SPF model demand with selling price set at ${model.selling_price:,.2f} is: ${model.demand():,.2f}\")\n",
    "print(f\"Single product SPF model profit with selling price set at ${model.selling_price:,.2f} is: ${model.profit():,.2f}\")\n",
    "print(f\"Single product SPF model attributes: {model}\")"
   ]
  },
  {
   "cell_type": "markdown",
   "metadata": {},
   "source": [
    "### 1-Way Data Table"
   ]
  },
  {
   "cell_type": "markdown",
   "metadata": {},
   "source": [
    "Creating a one-way data table using the inherited `data_table` function from Model (from the `whatif` package). We are using `selling_price` values from 80 to 140 (by steps of 10) as the input and outputting the `profit` and `demand`."
   ]
  },
  {
   "cell_type": "code",
   "execution_count": 138,
   "metadata": {},
   "outputs": [
    {
     "data": {
      "text/html": [
       "<div>\n",
       "<style scoped>\n",
       "    .dataframe tbody tr th:only-of-type {\n",
       "        vertical-align: middle;\n",
       "    }\n",
       "\n",
       "    .dataframe tbody tr th {\n",
       "        vertical-align: top;\n",
       "    }\n",
       "\n",
       "    .dataframe thead th {\n",
       "        text-align: right;\n",
       "    }\n",
       "</style>\n",
       "<table border=\"1\" class=\"dataframe\">\n",
       "  <thead>\n",
       "    <tr style=\"text-align: right;\">\n",
       "      <th></th>\n",
       "      <th>selling_price</th>\n",
       "      <th>profit</th>\n",
       "      <th>demand</th>\n",
       "    </tr>\n",
       "  </thead>\n",
       "  <tbody>\n",
       "    <tr>\n",
       "      <th>0</th>\n",
       "      <td>80</td>\n",
       "      <td>-54680.0</td>\n",
       "      <td>2484.0</td>\n",
       "    </tr>\n",
       "    <tr>\n",
       "      <th>1</th>\n",
       "      <td>90</td>\n",
       "      <td>-27360.0</td>\n",
       "      <td>2236.0</td>\n",
       "    </tr>\n",
       "    <tr>\n",
       "      <th>2</th>\n",
       "      <td>100</td>\n",
       "      <td>-5000.0</td>\n",
       "      <td>2000.0</td>\n",
       "    </tr>\n",
       "    <tr>\n",
       "      <th>3</th>\n",
       "      <td>110</td>\n",
       "      <td>12760.0</td>\n",
       "      <td>1776.0</td>\n",
       "    </tr>\n",
       "    <tr>\n",
       "      <th>4</th>\n",
       "      <td>120</td>\n",
       "      <td>26280.0</td>\n",
       "      <td>1564.0</td>\n",
       "    </tr>\n",
       "    <tr>\n",
       "      <th>5</th>\n",
       "      <td>130</td>\n",
       "      <td>35920.0</td>\n",
       "      <td>1364.0</td>\n",
       "    </tr>\n",
       "    <tr>\n",
       "      <th>6</th>\n",
       "      <td>140</td>\n",
       "      <td>42040.0</td>\n",
       "      <td>1176.0</td>\n",
       "    </tr>\n",
       "  </tbody>\n",
       "</table>\n",
       "</div>"
      ],
      "text/plain": [
       "   selling_price   profit  demand\n",
       "0             80 -54680.0  2484.0\n",
       "1             90 -27360.0  2236.0\n",
       "2            100  -5000.0  2000.0\n",
       "3            110  12760.0  1776.0\n",
       "4            120  26280.0  1564.0\n",
       "5            130  35920.0  1364.0\n",
       "6            140  42040.0  1176.0"
      ]
     },
     "execution_count": 138,
     "metadata": {},
     "output_type": "execute_result"
    }
   ],
   "source": [
    "one_way_inputs = {'selling_price': np.arange(80, 141, 10)}\n",
    "one_way_output = ['profit', 'demand']\n",
    "\n",
    "one_way_df = model.data_table(one_way_inputs, one_way_output)\n",
    "one_way_df"
   ]
  },
  {
   "cell_type": "markdown",
   "metadata": {},
   "source": [
    "Graphing our 1-way data table dataframe."
   ]
  },
  {
   "cell_type": "code",
   "execution_count": 139,
   "metadata": {},
   "outputs": [
    {
     "data": {
      "image/png": "[encoded data removed]",
      "text/plain": [
       "<Figure size 432x288 with 1 Axes>"
      ]
     },
     "metadata": {
      "needs_background": "light"
     },
     "output_type": "display_data"
    }
   ],
   "source": [
    "one_way_x = one_way_df['selling_price']\n",
    "one_way_y = one_way_df['profit']\n",
    "\n",
    "plt.xlabel('Selling Price')\n",
    "plt.ylabel('Profit')\n",
    "\n",
    "plt.hlines(y=0, xmin=min(one_way_df['selling_price']), xmax=max(one_way_df['selling_price']), linestyles='dotted')\n",
    "\n",
    "plt.title('Profit vs Selling Price')\n",
    "\n",
    "plt.plot(one_way_x, one_way_y)\n",
    "\n",
    "plt.show()"
   ]
  },
  {
   "cell_type": "markdown",
   "metadata": {},
   "source": [
    "The shape of the relationship between the selling price and profit looks like some degree polynomial. Profit does not increase linearly with selling price. We can see that as selling price increases, profit increases but at a decreasing rate. \n",
    "\n",
    "The result is that the \"line\" is curved, arching as selling price increases. It almost looks like 40%-45% of the left side of a rainbow.\n",
    "\n",
    "In short, the relationship is nonlinear and this makes sense since our SPF (selling price function) is quadratic. Our SPF calculates the demand and demand is in turn used to calculate the profit. Not only is SPF quadratic, but it has a positive squared variable (0.06 * S ^ 2) and a negative linear variable (- 35 * S)."
   ]
  },
  {
   "cell_type": "markdown",
   "metadata": {},
   "source": [
    "### Break-Even"
   ]
  },
  {
   "cell_type": "markdown",
   "metadata": {},
   "source": [
    "Break-even selling price between \\\\$80 and \\\\$140."
   ]
  },
  {
   "cell_type": "code",
   "execution_count": 140,
   "metadata": {},
   "outputs": [
    {
     "name": "stdout",
     "output_type": "stream",
     "text": [
      "Selling price (between $80 and $140) that gets us at the break-even point ($0) for profit: $102.58\n"
     ]
    }
   ],
   "source": [
    "print(f\"Selling price (between $80 and $140) that gets us at the break-even point ($0) for profit: ${model.goal_seek('profit', 0, 'selling_price', 80, 140, 100):,.2f}\")"
   ]
  },
  {
   "cell_type": "markdown",
   "metadata": {},
   "source": [
    "### 2-Way Data Table"
   ]
  },
  {
   "cell_type": "markdown",
   "metadata": {},
   "source": [
    "Let's create a 2-way data table using `selling_price` (\\\\$80 to \\\\$140, steps of \\\\$10), `var_cost` (\\\\$85 to \\\\$110, steps of \\\\$5) as the inputs and `profit` and `total_cost` as the outputs."
   ]
  },
  {
   "cell_type": "code",
   "execution_count": 145,
   "metadata": {},
   "outputs": [
    {
     "data": {
      "text/html": [
       "<div>\n",
       "<style scoped>\n",
       "    .dataframe tbody tr th:only-of-type {\n",
       "        vertical-align: middle;\n",
       "    }\n",
       "\n",
       "    .dataframe tbody tr th {\n",
       "        vertical-align: top;\n",
       "    }\n",
       "\n",
       "    .dataframe thead th {\n",
       "        text-align: right;\n",
       "    }\n",
       "</style>\n",
       "<table border=\"1\" class=\"dataframe\">\n",
       "  <thead>\n",
       "    <tr style=\"text-align: right;\">\n",
       "      <th></th>\n",
       "      <th>selling_price</th>\n",
       "      <th>var_cost</th>\n",
       "      <th>profit</th>\n",
       "      <th>total_cost</th>\n",
       "    </tr>\n",
       "  </thead>\n",
       "  <tbody>\n",
       "    <tr>\n",
       "      <th>0</th>\n",
       "      <td>80</td>\n",
       "      <td>85</td>\n",
       "      <td>-17420.0</td>\n",
       "      <td>216140.0</td>\n",
       "    </tr>\n",
       "    <tr>\n",
       "      <th>1</th>\n",
       "      <td>80</td>\n",
       "      <td>90</td>\n",
       "      <td>-29840.0</td>\n",
       "      <td>228560.0</td>\n",
       "    </tr>\n",
       "    <tr>\n",
       "      <th>2</th>\n",
       "      <td>80</td>\n",
       "      <td>95</td>\n",
       "      <td>-42260.0</td>\n",
       "      <td>240980.0</td>\n",
       "    </tr>\n",
       "    <tr>\n",
       "      <th>3</th>\n",
       "      <td>80</td>\n",
       "      <td>100</td>\n",
       "      <td>-54680.0</td>\n",
       "      <td>253400.0</td>\n",
       "    </tr>\n",
       "    <tr>\n",
       "      <th>4</th>\n",
       "      <td>80</td>\n",
       "      <td>105</td>\n",
       "      <td>-67100.0</td>\n",
       "      <td>265820.0</td>\n",
       "    </tr>\n",
       "    <tr>\n",
       "      <th>5</th>\n",
       "      <td>80</td>\n",
       "      <td>110</td>\n",
       "      <td>-79520.0</td>\n",
       "      <td>278240.0</td>\n",
       "    </tr>\n",
       "    <tr>\n",
       "      <th>6</th>\n",
       "      <td>90</td>\n",
       "      <td>85</td>\n",
       "      <td>6180.0</td>\n",
       "      <td>195060.0</td>\n",
       "    </tr>\n",
       "    <tr>\n",
       "      <th>7</th>\n",
       "      <td>90</td>\n",
       "      <td>90</td>\n",
       "      <td>-5000.0</td>\n",
       "      <td>206240.0</td>\n",
       "    </tr>\n",
       "    <tr>\n",
       "      <th>8</th>\n",
       "      <td>90</td>\n",
       "      <td>95</td>\n",
       "      <td>-16180.0</td>\n",
       "      <td>217420.0</td>\n",
       "    </tr>\n",
       "    <tr>\n",
       "      <th>9</th>\n",
       "      <td>90</td>\n",
       "      <td>100</td>\n",
       "      <td>-27360.0</td>\n",
       "      <td>228600.0</td>\n",
       "    </tr>\n",
       "    <tr>\n",
       "      <th>10</th>\n",
       "      <td>90</td>\n",
       "      <td>105</td>\n",
       "      <td>-38540.0</td>\n",
       "      <td>239780.0</td>\n",
       "    </tr>\n",
       "    <tr>\n",
       "      <th>11</th>\n",
       "      <td>90</td>\n",
       "      <td>110</td>\n",
       "      <td>-49720.0</td>\n",
       "      <td>250960.0</td>\n",
       "    </tr>\n",
       "    <tr>\n",
       "      <th>12</th>\n",
       "      <td>100</td>\n",
       "      <td>85</td>\n",
       "      <td>25000.0</td>\n",
       "      <td>175000.0</td>\n",
       "    </tr>\n",
       "    <tr>\n",
       "      <th>13</th>\n",
       "      <td>100</td>\n",
       "      <td>90</td>\n",
       "      <td>15000.0</td>\n",
       "      <td>185000.0</td>\n",
       "    </tr>\n",
       "    <tr>\n",
       "      <th>14</th>\n",
       "      <td>100</td>\n",
       "      <td>95</td>\n",
       "      <td>5000.0</td>\n",
       "      <td>195000.0</td>\n",
       "    </tr>\n",
       "    <tr>\n",
       "      <th>15</th>\n",
       "      <td>100</td>\n",
       "      <td>100</td>\n",
       "      <td>-5000.0</td>\n",
       "      <td>205000.0</td>\n",
       "    </tr>\n",
       "    <tr>\n",
       "      <th>16</th>\n",
       "      <td>100</td>\n",
       "      <td>105</td>\n",
       "      <td>-15000.0</td>\n",
       "      <td>215000.0</td>\n",
       "    </tr>\n",
       "    <tr>\n",
       "      <th>17</th>\n",
       "      <td>100</td>\n",
       "      <td>110</td>\n",
       "      <td>-25000.0</td>\n",
       "      <td>225000.0</td>\n",
       "    </tr>\n",
       "    <tr>\n",
       "      <th>18</th>\n",
       "      <td>110</td>\n",
       "      <td>85</td>\n",
       "      <td>39400.0</td>\n",
       "      <td>155960.0</td>\n",
       "    </tr>\n",
       "    <tr>\n",
       "      <th>19</th>\n",
       "      <td>110</td>\n",
       "      <td>90</td>\n",
       "      <td>30520.0</td>\n",
       "      <td>164840.0</td>\n",
       "    </tr>\n",
       "    <tr>\n",
       "      <th>20</th>\n",
       "      <td>110</td>\n",
       "      <td>95</td>\n",
       "      <td>21640.0</td>\n",
       "      <td>173720.0</td>\n",
       "    </tr>\n",
       "    <tr>\n",
       "      <th>21</th>\n",
       "      <td>110</td>\n",
       "      <td>100</td>\n",
       "      <td>12760.0</td>\n",
       "      <td>182600.0</td>\n",
       "    </tr>\n",
       "    <tr>\n",
       "      <th>22</th>\n",
       "      <td>110</td>\n",
       "      <td>105</td>\n",
       "      <td>3880.0</td>\n",
       "      <td>191480.0</td>\n",
       "    </tr>\n",
       "    <tr>\n",
       "      <th>23</th>\n",
       "      <td>110</td>\n",
       "      <td>110</td>\n",
       "      <td>-5000.0</td>\n",
       "      <td>200360.0</td>\n",
       "    </tr>\n",
       "    <tr>\n",
       "      <th>24</th>\n",
       "      <td>120</td>\n",
       "      <td>85</td>\n",
       "      <td>49740.0</td>\n",
       "      <td>137940.0</td>\n",
       "    </tr>\n",
       "    <tr>\n",
       "      <th>25</th>\n",
       "      <td>120</td>\n",
       "      <td>90</td>\n",
       "      <td>41920.0</td>\n",
       "      <td>145760.0</td>\n",
       "    </tr>\n",
       "    <tr>\n",
       "      <th>26</th>\n",
       "      <td>120</td>\n",
       "      <td>95</td>\n",
       "      <td>34100.0</td>\n",
       "      <td>153580.0</td>\n",
       "    </tr>\n",
       "    <tr>\n",
       "      <th>27</th>\n",
       "      <td>120</td>\n",
       "      <td>100</td>\n",
       "      <td>26280.0</td>\n",
       "      <td>161400.0</td>\n",
       "    </tr>\n",
       "    <tr>\n",
       "      <th>28</th>\n",
       "      <td>120</td>\n",
       "      <td>105</td>\n",
       "      <td>18460.0</td>\n",
       "      <td>169220.0</td>\n",
       "    </tr>\n",
       "    <tr>\n",
       "      <th>29</th>\n",
       "      <td>120</td>\n",
       "      <td>110</td>\n",
       "      <td>10640.0</td>\n",
       "      <td>177040.0</td>\n",
       "    </tr>\n",
       "    <tr>\n",
       "      <th>30</th>\n",
       "      <td>130</td>\n",
       "      <td>85</td>\n",
       "      <td>56380.0</td>\n",
       "      <td>120940.0</td>\n",
       "    </tr>\n",
       "    <tr>\n",
       "      <th>31</th>\n",
       "      <td>130</td>\n",
       "      <td>90</td>\n",
       "      <td>49560.0</td>\n",
       "      <td>127760.0</td>\n",
       "    </tr>\n",
       "    <tr>\n",
       "      <th>32</th>\n",
       "      <td>130</td>\n",
       "      <td>95</td>\n",
       "      <td>42740.0</td>\n",
       "      <td>134580.0</td>\n",
       "    </tr>\n",
       "    <tr>\n",
       "      <th>33</th>\n",
       "      <td>130</td>\n",
       "      <td>100</td>\n",
       "      <td>35920.0</td>\n",
       "      <td>141400.0</td>\n",
       "    </tr>\n",
       "    <tr>\n",
       "      <th>34</th>\n",
       "      <td>130</td>\n",
       "      <td>105</td>\n",
       "      <td>29100.0</td>\n",
       "      <td>148220.0</td>\n",
       "    </tr>\n",
       "    <tr>\n",
       "      <th>35</th>\n",
       "      <td>130</td>\n",
       "      <td>110</td>\n",
       "      <td>22280.0</td>\n",
       "      <td>155040.0</td>\n",
       "    </tr>\n",
       "    <tr>\n",
       "      <th>36</th>\n",
       "      <td>140</td>\n",
       "      <td>85</td>\n",
       "      <td>59680.0</td>\n",
       "      <td>104960.0</td>\n",
       "    </tr>\n",
       "    <tr>\n",
       "      <th>37</th>\n",
       "      <td>140</td>\n",
       "      <td>90</td>\n",
       "      <td>53800.0</td>\n",
       "      <td>110840.0</td>\n",
       "    </tr>\n",
       "    <tr>\n",
       "      <th>38</th>\n",
       "      <td>140</td>\n",
       "      <td>95</td>\n",
       "      <td>47920.0</td>\n",
       "      <td>116720.0</td>\n",
       "    </tr>\n",
       "    <tr>\n",
       "      <th>39</th>\n",
       "      <td>140</td>\n",
       "      <td>100</td>\n",
       "      <td>42040.0</td>\n",
       "      <td>122600.0</td>\n",
       "    </tr>\n",
       "    <tr>\n",
       "      <th>40</th>\n",
       "      <td>140</td>\n",
       "      <td>105</td>\n",
       "      <td>36160.0</td>\n",
       "      <td>128480.0</td>\n",
       "    </tr>\n",
       "    <tr>\n",
       "      <th>41</th>\n",
       "      <td>140</td>\n",
       "      <td>110</td>\n",
       "      <td>30280.0</td>\n",
       "      <td>134360.0</td>\n",
       "    </tr>\n",
       "  </tbody>\n",
       "</table>\n",
       "</div>"
      ],
      "text/plain": [
       "    selling_price  var_cost   profit  total_cost\n",
       "0              80        85 -17420.0    216140.0\n",
       "1              80        90 -29840.0    228560.0\n",
       "2              80        95 -42260.0    240980.0\n",
       "3              80       100 -54680.0    253400.0\n",
       "4              80       105 -67100.0    265820.0\n",
       "5              80       110 -79520.0    278240.0\n",
       "6              90        85   6180.0    195060.0\n",
       "7              90        90  -5000.0    206240.0\n",
       "8              90        95 -16180.0    217420.0\n",
       "9              90       100 -27360.0    228600.0\n",
       "10             90       105 -38540.0    239780.0\n",
       "11             90       110 -49720.0    250960.0\n",
       "12            100        85  25000.0    175000.0\n",
       "13            100        90  15000.0    185000.0\n",
       "14            100        95   5000.0    195000.0\n",
       "15            100       100  -5000.0    205000.0\n",
       "16            100       105 -15000.0    215000.0\n",
       "17            100       110 -25000.0    225000.0\n",
       "18            110        85  39400.0    155960.0\n",
       "19            110        90  30520.0    164840.0\n",
       "20            110        95  21640.0    173720.0\n",
       "21            110       100  12760.0    182600.0\n",
       "22            110       105   3880.0    191480.0\n",
       "23            110       110  -5000.0    200360.0\n",
       "24            120        85  49740.0    137940.0\n",
       "25            120        90  41920.0    145760.0\n",
       "26            120        95  34100.0    153580.0\n",
       "27            120       100  26280.0    161400.0\n",
       "28            120       105  18460.0    169220.0\n",
       "29            120       110  10640.0    177040.0\n",
       "30            130        85  56380.0    120940.0\n",
       "31            130        90  49560.0    127760.0\n",
       "32            130        95  42740.0    134580.0\n",
       "33            130       100  35920.0    141400.0\n",
       "34            130       105  29100.0    148220.0\n",
       "35            130       110  22280.0    155040.0\n",
       "36            140        85  59680.0    104960.0\n",
       "37            140        90  53800.0    110840.0\n",
       "38            140        95  47920.0    116720.0\n",
       "39            140       100  42040.0    122600.0\n",
       "40            140       105  36160.0    128480.0\n",
       "41            140       110  30280.0    134360.0"
      ]
     },
     "execution_count": 145,
     "metadata": {},
     "output_type": "execute_result"
    }
   ],
   "source": [
    "two_way_inputs = {'selling_price': np.arange(80, 141, 10),\n",
    "                 'var_cost': np.arange(85, 111, 5)}\n",
    "two_way_outputs = ['profit', 'total_cost']\n",
    "\n",
    "two_way_df = model.data_table(two_way_inputs, two_way_outputs)\n",
    "two_way_df"
   ]
  },
  {
   "cell_type": "markdown",
   "metadata": {},
   "source": [
    "Let's visualize how the selling price and variable cost affect the profit."
   ]
  },
  {
   "cell_type": "code",
   "execution_count": 153,
   "metadata": {},
   "outputs": [
    {
     "data": {
      "image/png": "[encoded data removed]",
      "text/plain": [
       "<Figure size 864x432 with 7 Axes>"
      ]
     },
     "metadata": {
      "needs_background": "light"
     },
     "output_type": "display_data"
    }
   ],
   "source": [
    "two_way_graph = sns.FacetGrid(two_way_df, col=\"selling_price\", sharey=True, col_wrap=4)\n",
    "two_way_graph = two_way_graph.map(plt.plot, \"var_cost\", \"profit\")\n",
    "two_way_graph = two_way_graph.refline(y=0)"
   ]
  },
  {
   "cell_type": "markdown",
   "metadata": {},
   "source": [
    "From this faceted plot, we can see that increasing the selling price increases the profit and that higher variable cost translates into less profit.\n",
    "\n",
    "It's easy to see the negative linear relationship between variable cost (in this band) and profit since we have a downward sloped line. As for seeing how increasing selling price (at least in this band) increases the profits, we can see how the line (at each point) is higher going from 80 to 140 selling price in steps of 10 (notice the line is above the y=0 reference line)."
   ]
  },
  {
   "cell_type": "markdown",
   "metadata": {},
   "source": [
    "### Digging Deeper"
   ]
  },
  {
   "cell_type": "markdown",
   "metadata": {},
   "source": [
    "Redoing the Goal Seek but using \\\\$80-\\\\$250 instead"
   ]
  },
  {
   "cell_type": "code",
   "execution_count": 180,
   "metadata": {},
   "outputs": [
    {
     "name": "stdout",
     "output_type": "stream",
     "text": [
      "None\n",
      "None\n"
     ]
    }
   ],
   "source": [
    "# Got an error from the below code so it's been commented out\n",
    "# print(f\"Selling price (between $80 and $140) that gets us at the break-even point ($0) for profit: ${model.goal_seek('profit', 0, 'selling_price', 80, 250, 2000):,.2f}\")\n",
    "\n",
    "print(model.goal_seek('profit', 0, 'selling_price', 80, 250, 100))\n",
    "print(model.goal_seek('profit', 0, 'selling_price', 80, 250, 10000))"
   ]
  },
  {
   "cell_type": "markdown",
   "metadata": {},
   "source": [
    "Looks like our bisection algorithm cannot find a root for the equation using a selling price between 80 and 250. This is the case even when we increase the number of iterations to 10,000. We can refer to https://www.math.ubc.ca/~pwalls/math-python/roots-optimization/bisection/ to get a better understanding (as seen in `whatif.py`)."
   ]
  },
  {
   "cell_type": "markdown",
   "metadata": {},
   "source": [
    "![bisection algorithm error](./images/Bisection_algorithm_error.png)"
   ]
  },
  {
   "cell_type": "markdown",
   "metadata": {},
   "source": [
    "From this explanation, we can deduce that we had \"either ... a bad initial interval or rounding error in computations.\" We can also look at the docstrings for further explanation on our interval/bounds `a` (80) and `b` (250)."
   ]
  },
  {
   "cell_type": "code",
   "execution_count": 181,
   "metadata": {},
   "outputs": [
    {
     "data": {
      "text/plain": [
       "\u001b[1;31mSignature:\u001b[0m \u001b[0mmodel\u001b[0m\u001b[1;33m.\u001b[0m\u001b[0mgoal_seek\u001b[0m\u001b[1;33m(\u001b[0m\u001b[0mobj_fn\u001b[0m\u001b[1;33m,\u001b[0m \u001b[0mtarget\u001b[0m\u001b[1;33m,\u001b[0m \u001b[0mby_changing\u001b[0m\u001b[1;33m,\u001b[0m \u001b[0ma\u001b[0m\u001b[1;33m,\u001b[0m \u001b[0mb\u001b[0m\u001b[1;33m,\u001b[0m \u001b[0mN\u001b[0m\u001b[1;33m=\u001b[0m\u001b[1;36m100\u001b[0m\u001b[1;33m)\u001b[0m\u001b[1;33m\u001b[0m\u001b[1;33m\u001b[0m\u001b[0m\n",
       "\u001b[1;31mDocstring:\u001b[0m\n",
       "Approximate solution of f(x)=0 on interval [a,b] by bisection method.\n",
       "\n",
       "Parameters\n",
       "----------\n",
       "obj_fn : str\n",
       "    The function name for which we are trying to approximate a solution f(x)=target.\n",
       "target : float\n",
       "    The goal\n",
       "by_changing : str\n",
       "    Name of the input variable in model\n",
       "a,b : numbers\n",
       "    The interval in which to search for a solution. The function returns\n",
       "    None if (f(a) - target) * (f(b) - target) >= 0 since a solution is not guaranteed.\n",
       "N : (positive) integer\n",
       "    The number of iterations to implement.\n",
       "\n",
       "Returns\n",
       "-------\n",
       "x_N : number\n",
       "    The midpoint of the Nth interval computed by the bisection method. The\n",
       "    initial interval [a_0,b_0] is given by [a,b]. If f(m_n) - target == 0 for some\n",
       "    midpoint m_n = (a_n + b_n)/2, then the function returns this solution.\n",
       "    If all signs of values f(a_n), f(b_n) and f(m_n) are the same at any\n",
       "    iteration, the bisection method fails and return None.\n",
       "\u001b[1;31mFile:\u001b[0m      d:\\documents\\school stuff\\grad\\courses\\2022_05 summer\\mis 6900 - adv analytics w python\\module 3-excel w python\\mis6900_hw2\\whatif.py\n",
       "\u001b[1;31mType:\u001b[0m      method\n"
      ]
     },
     "metadata": {},
     "output_type": "display_data"
    }
   ],
   "source": [
    "?model.goal_seek"
   ]
  },
  {
   "cell_type": "markdown",
   "metadata": {},
   "source": [
    "Let's redo the 1-way data table as well to get further insight on why this is happening."
   ]
  },
  {
   "cell_type": "code",
   "execution_count": 182,
   "metadata": {},
   "outputs": [
    {
     "data": {
      "text/html": [
       "<div>\n",
       "<style scoped>\n",
       "    .dataframe tbody tr th:only-of-type {\n",
       "        vertical-align: middle;\n",
       "    }\n",
       "\n",
       "    .dataframe tbody tr th {\n",
       "        vertical-align: top;\n",
       "    }\n",
       "\n",
       "    .dataframe thead th {\n",
       "        text-align: right;\n",
       "    }\n",
       "</style>\n",
       "<table border=\"1\" class=\"dataframe\">\n",
       "  <thead>\n",
       "    <tr style=\"text-align: right;\">\n",
       "      <th></th>\n",
       "      <th>selling_price</th>\n",
       "      <th>profit</th>\n",
       "      <th>demand</th>\n",
       "    </tr>\n",
       "  </thead>\n",
       "  <tbody>\n",
       "    <tr>\n",
       "      <th>0</th>\n",
       "      <td>80</td>\n",
       "      <td>-54680.0</td>\n",
       "      <td>2484.0</td>\n",
       "    </tr>\n",
       "    <tr>\n",
       "      <th>1</th>\n",
       "      <td>90</td>\n",
       "      <td>-27360.0</td>\n",
       "      <td>2236.0</td>\n",
       "    </tr>\n",
       "    <tr>\n",
       "      <th>2</th>\n",
       "      <td>100</td>\n",
       "      <td>-5000.0</td>\n",
       "      <td>2000.0</td>\n",
       "    </tr>\n",
       "    <tr>\n",
       "      <th>3</th>\n",
       "      <td>110</td>\n",
       "      <td>12760.0</td>\n",
       "      <td>1776.0</td>\n",
       "    </tr>\n",
       "    <tr>\n",
       "      <th>4</th>\n",
       "      <td>120</td>\n",
       "      <td>26280.0</td>\n",
       "      <td>1564.0</td>\n",
       "    </tr>\n",
       "    <tr>\n",
       "      <th>5</th>\n",
       "      <td>130</td>\n",
       "      <td>35920.0</td>\n",
       "      <td>1364.0</td>\n",
       "    </tr>\n",
       "    <tr>\n",
       "      <th>6</th>\n",
       "      <td>140</td>\n",
       "      <td>42040.0</td>\n",
       "      <td>1176.0</td>\n",
       "    </tr>\n",
       "    <tr>\n",
       "      <th>7</th>\n",
       "      <td>150</td>\n",
       "      <td>45000.0</td>\n",
       "      <td>1000.0</td>\n",
       "    </tr>\n",
       "    <tr>\n",
       "      <th>8</th>\n",
       "      <td>160</td>\n",
       "      <td>45160.0</td>\n",
       "      <td>836.0</td>\n",
       "    </tr>\n",
       "    <tr>\n",
       "      <th>9</th>\n",
       "      <td>170</td>\n",
       "      <td>42880.0</td>\n",
       "      <td>684.0</td>\n",
       "    </tr>\n",
       "    <tr>\n",
       "      <th>10</th>\n",
       "      <td>180</td>\n",
       "      <td>38520.0</td>\n",
       "      <td>544.0</td>\n",
       "    </tr>\n",
       "    <tr>\n",
       "      <th>11</th>\n",
       "      <td>190</td>\n",
       "      <td>32440.0</td>\n",
       "      <td>416.0</td>\n",
       "    </tr>\n",
       "    <tr>\n",
       "      <th>12</th>\n",
       "      <td>200</td>\n",
       "      <td>25000.0</td>\n",
       "      <td>300.0</td>\n",
       "    </tr>\n",
       "    <tr>\n",
       "      <th>13</th>\n",
       "      <td>210</td>\n",
       "      <td>16560.0</td>\n",
       "      <td>196.0</td>\n",
       "    </tr>\n",
       "    <tr>\n",
       "      <th>14</th>\n",
       "      <td>220</td>\n",
       "      <td>7480.0</td>\n",
       "      <td>104.0</td>\n",
       "    </tr>\n",
       "    <tr>\n",
       "      <th>15</th>\n",
       "      <td>230</td>\n",
       "      <td>-1880.0</td>\n",
       "      <td>24.0</td>\n",
       "    </tr>\n",
       "    <tr>\n",
       "      <th>16</th>\n",
       "      <td>240</td>\n",
       "      <td>-11160.0</td>\n",
       "      <td>-44.0</td>\n",
       "    </tr>\n",
       "    <tr>\n",
       "      <th>17</th>\n",
       "      <td>250</td>\n",
       "      <td>-20000.0</td>\n",
       "      <td>-100.0</td>\n",
       "    </tr>\n",
       "  </tbody>\n",
       "</table>\n",
       "</div>"
      ],
      "text/plain": [
       "    selling_price   profit  demand\n",
       "0              80 -54680.0  2484.0\n",
       "1              90 -27360.0  2236.0\n",
       "2             100  -5000.0  2000.0\n",
       "3             110  12760.0  1776.0\n",
       "4             120  26280.0  1564.0\n",
       "5             130  35920.0  1364.0\n",
       "6             140  42040.0  1176.0\n",
       "7             150  45000.0  1000.0\n",
       "8             160  45160.0   836.0\n",
       "9             170  42880.0   684.0\n",
       "10            180  38520.0   544.0\n",
       "11            190  32440.0   416.0\n",
       "12            200  25000.0   300.0\n",
       "13            210  16560.0   196.0\n",
       "14            220   7480.0   104.0\n",
       "15            230  -1880.0    24.0\n",
       "16            240 -11160.0   -44.0\n",
       "17            250 -20000.0  -100.0"
      ]
     },
     "execution_count": 182,
     "metadata": {},
     "output_type": "execute_result"
    }
   ],
   "source": [
    "one_way_inputs_new = {'selling_price': np.arange(80, 251, 10)}\n",
    "one_way_output_new = ['profit', 'demand']\n",
    "\n",
    "one_way_df_new = model.data_table(one_way_inputs_new, one_way_output_new)\n",
    "one_way_df_new"
   ]
  },
  {
   "cell_type": "markdown",
   "metadata": {},
   "source": [
    "We have two sign changes in this data table (i.e. two roots): one occuring between a selling price of 100 and 110 and another one occuring between a selling price of 220 and 230. \n",
    "\n",
    "We start out with a negative profit for our first interval and end with a negative profit for our last interval which breaks the algorithm since f(a_n) * f(b_n) for our first iteration which in this case is **-54,680** and **-20,000** (-54,680 profit for selling price of 80 and -20,000 profit for selling price of 250).\n",
    "\n",
    "The line the algorithm stops at is this one (for further reading/debugging):\n",
    "```python\n",
    "        if (f_a_0 - target) * (f_b_0 - target) >= 0:\n",
    "            # print(\"Bisection method fails.\")\n",
    "            return None\n",
    "```\n",
    "\n",
    "where `f_a_0` = -54,680, `f_b_0` = -20,000, and `target` = 0. \n",
    "\n",
    "Now it makes sense why `goal_seek`, in the way that it's currently implemented, failed to find a root."
   ]
  },
  {
   "cell_type": "markdown",
   "metadata": {},
   "source": [
    "### Simulation"
   ]
  },
  {
   "cell_type": "code",
   "execution_count": null,
   "metadata": {},
   "outputs": [],
   "source": []
  },
  {
   "cell_type": "markdown",
   "metadata": {},
   "source": [
    "## Analysis 2 - Wrangling csv files"
   ]
  },
  {
   "cell_type": "code",
   "execution_count": null,
   "metadata": {},
   "outputs": [],
   "source": []
  },
  {
   "cell_type": "markdown",
   "metadata": {},
   "source": [
    "### Consolidation"
   ]
  },
  {
   "cell_type": "code",
   "execution_count": null,
   "metadata": {},
   "outputs": [],
   "source": []
  },
  {
   "cell_type": "markdown",
   "metadata": {},
   "source": [
    "### Summarization"
   ]
  },
  {
   "cell_type": "code",
   "execution_count": null,
   "metadata": {},
   "outputs": [],
   "source": []
  }
 ],
 "metadata": {
  "kernelspec": {
   "display_name": "Python [conda env:aap]",
   "language": "python",
   "name": "conda-env-aap-py"
  },
  "language_info": {
   "codemirror_mode": {
    "name": "ipython",
    "version": 3
   },
   "file_extension": ".py",
   "mimetype": "text/x-python",
   "name": "python",
   "nbconvert_exporter": "python",
   "pygments_lexer": "ipython3",
   "version": "3.7.13"
  },
  "toc-autonumbering": true
 },
 "nbformat": 4,
 "nbformat_minor": 4
}
